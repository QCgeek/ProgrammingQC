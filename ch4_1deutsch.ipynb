{
 "cells": [
  {
   "cell_type": "code",
   "execution_count": null,
   "id": "N8fSDxa5YpUI",
   "metadata": {
    "colab": {
     "base_uri": "https://localhost:8080/"
    },
    "id": "N8fSDxa5YpUI",
    "outputId": "06882c6b-39f0-460e-f5e1-7be7d1e5a285"
   },
   "outputs": [],
   "source": [
    "!pip install qiskit qiskit-ibm-runtime pylatexenc qiskit_aer"
   ]
  },
  {
   "cell_type": "code",
   "execution_count": null,
   "id": "ff09664b",
   "metadata": {},
   "outputs": [],
   "source": [
    "import qiskit\n",
    "qiskit.version.get_version_info()"
   ]
  },
  {
   "cell_type": "code",
   "execution_count": null,
   "id": "J09ngx1BZ9Pa",
   "metadata": {
    "colab": {
     "base_uri": "https://localhost:8080/",
     "height": 191
    },
    "id": "J09ngx1BZ9Pa",
    "outputId": "71c2600b-5cac-4fe8-8c11-978aae6f8b7d"
   },
   "outputs": [],
   "source": [
    "from qiskit import QuantumCircuit, QuantumRegister\n",
    "# f(x) = 0 인 상수 함수의 도이치 오라클 회로를 구현하는 함수\n",
    "def deutsch_oracle_circuit0():\n",
    "    qy = QuantumRegister(1, 'y')\n",
    "    qx = QuantumRegister(1, 'x')\n",
    "    qc = QuantumCircuit(qy, qx) # qc 라는 이름의 2큐비트 양자 회로 객체를 생성\n",
    "                           # qy 의 상태 |y XOR f(x)> =|y XOR 0> = |y>\n",
    "    qc.name = 'Deutsch0'\n",
    "    return qc              # qc 객체를 반환\n",
    "\n",
    "circuit = deutsch_oracle_circuit0() # 함수를 호출하여 회로를 표현하는 객체를 생성\n",
    "circuit.draw(output='mpl') # circuit 회로를 matplot library 형식의 그림 화일로 출력"
   ]
  },
  {
   "cell_type": "code",
   "execution_count": null,
   "id": "cHQPwXYvdWx6",
   "metadata": {
    "colab": {
     "base_uri": "https://localhost:8080/",
     "height": 191
    },
    "id": "cHQPwXYvdWx6",
    "outputId": "1cf4e178-a979-4662-dd9c-a3099d9f00e4"
   },
   "outputs": [],
   "source": [
    "from qiskit import QuantumCircuit, QuantumRegister\n",
    "# f(x) = 1 인 상수 함수의 도이치 오라클 회로를 구현하는 함수\n",
    "def deutsch_oracle_circuit1():\n",
    "    qy = QuantumRegister(1, 'y')\n",
    "    qx = QuantumRegister(1, 'x')\n",
    "    qc = QuantumCircuit(qy, qx) # qc 라는 이름의 2큐비트 양자 회로 객체를 생성\n",
    "\n",
    "    qc.x(qy)                # qy 의 상태 |y XOR f(x)> =|y XOR 1> = |NOT y>\n",
    "    qc.name = 'Deutsch1'\n",
    "    return qc              # qc 객체를 반환\n",
    "\n",
    "circuit = deutsch_oracle_circuit1() # 함수를 호출하여 회로를 표현하는 객체를 생성\n",
    "circuit.draw(output='mpl') # circuit 회로를 matplot library 형식의 그림 화일로 출력"
   ]
  },
  {
   "cell_type": "code",
   "execution_count": null,
   "id": "Th7MsNqwdn-K",
   "metadata": {
    "colab": {
     "base_uri": "https://localhost:8080/",
     "height": 191
    },
    "id": "Th7MsNqwdn-K",
    "outputId": "1cda5ad1-db1e-4547-ceb2-9d658d9d2e6e"
   },
   "outputs": [],
   "source": [
    "from qiskit import QuantumCircuit, QuantumRegister\n",
    "# f(x) = x 인 균형 함수의 도이치 오라클 회로를 구현하는 함수\n",
    "def deutsch_oracle_circuit_x():\n",
    "    qy = QuantumRegister(1, 'y')\n",
    "    qx = QuantumRegister(1, 'x')\n",
    "    qc = QuantumCircuit(qy, qx) # qc 라는 이름의 2큐비트 양자 회로 객체를 생성\n",
    "\n",
    "    qc.cx(qx,qy)            # qy 의 상태 |y XOR f(x)> =|y XOR x> = |y>\n",
    "    qc.name = 'Deutschx'\n",
    "    return qc              # qc 객체를 반환\n",
    "\n",
    "circuit = deutsch_oracle_circuit_x() # 함수를 호출하여 회로를 표현하는 객체를 생성\n",
    "circuit.draw(output='mpl') # circuit 회로를 matplot library 형식의 그림 화일로 출력"
   ]
  },
  {
   "cell_type": "code",
   "execution_count": null,
   "id": "y8ZfdvTA4l8J",
   "metadata": {
    "colab": {
     "base_uri": "https://localhost:8080/",
     "height": 191
    },
    "id": "y8ZfdvTA4l8J",
    "outputId": "11720fa7-e132-4374-9b68-6d3dab6a5ec1"
   },
   "outputs": [],
   "source": [
    "from qiskit import QuantumCircuit, QuantumRegister\n",
    "# f(x) = ~x 인 균형 함수의 도이치 오라클 회로를 구현하는 함수\n",
    "def deutsch_oracle_circuit_notx():\n",
    "    qy = QuantumRegister(1, 'y')\n",
    "    qx = QuantumRegister(1, 'x')\n",
    "    qc = QuantumCircuit(qy, qx) # qc 라는 이름의 2큐비트 양자 회로 객체를 생성\n",
    "\n",
    "    qc.x(qx)\n",
    "    qc.cx(qx,qy)            # qy 의 상태 |y XOR f(x)> =|y XOR ~x> = |y>\n",
    "    qc.x(qx)                # Uf 함수에서 x 상태는 변하지 않으므로 qx 를 원래 상태로 복구\n",
    "    qc.name = 'Deutsch_notx'\n",
    "    return qc              # qc 객체를 반환\n",
    "\n",
    "circuit = deutsch_oracle_circuit_notx() # 함수를 호출하여 회로를 표현하는 객체를 생성\n",
    "circuit.draw(output='mpl') # circuit 회로를 matplot library 형식의 그림 화일로 출력"
   ]
  },
  {
   "cell_type": "code",
   "execution_count": null,
   "id": "zobTqaGmcyV9",
   "metadata": {
    "colab": {
     "base_uri": "https://localhost:8080/",
     "height": 209
    },
    "id": "zobTqaGmcyV9",
    "outputId": "7bf58c68-66b4-45f7-add0-6b655c5a48cf"
   },
   "outputs": [],
   "source": [
    "from qiskit import QuantumCircuit, QuantumRegister\n",
    "from numpy import random\n",
    "# 임의의 f(x) 함수에 대한 도이치 오라클 회로를 구현하여 반환하는 함수\n",
    "def deutsch_oracle_circuit():\n",
    "    qy = QuantumRegister(1, 'y')\n",
    "    qx = QuantumRegister(1, 'x')\n",
    "    qc = QuantumCircuit(qy, qx) # qc 라는 이름의 2큐비트 양자 회로 객체를 생성\n",
    "\n",
    "    random.seed()           # 난수 함수를 임의로 초기화\n",
    "    f = random.randint(4)   # 0,1,2,3 중 임의의 숫자 선택\n",
    "    print('random number : ', f)\n",
    "    if f == 0:\n",
    "      pass                  # qy 의 상태 |y XOR f(x)> =|y XOR 0> = |y>\n",
    "    elif f == 1:\n",
    "      qc.x(qy)            # qy 의 상태 |y XOR f(x)> =|y XOR 1> = |NOT y>\n",
    "    elif f == 2:\n",
    "      qc.cx(qx,qy)        # qy 의 상태 |y XOR f(x)> =|y XOR x> = |y>\n",
    "    else :\n",
    "      qc.x(qx)\n",
    "      qc.cx(qx,qy)        # qy 의 상태 |y XOR f(x)> =|y XOR ~x> = |y>\n",
    "      qc.x(qx)\n",
    "    qc.name = 'Deutsch'\n",
    "    return qc              # qc 객체를 반환\n",
    "circuit = deutsch_oracle_circuit() # 함수를 호출하여 회로를 표현하는 객체를 생성\n",
    "circuit.draw(output='mpl') # circuit 회로를 matplot library 형식의 그림 화일로 출력"
   ]
  },
  {
   "cell_type": "code",
   "execution_count": null,
   "id": "H7G7RZATep4m",
   "metadata": {
    "colab": {
     "base_uri": "https://localhost:8080/",
     "height": 273
    },
    "id": "H7G7RZATep4m",
    "outputId": "36fddc01-3b0b-4706-abcd-ccc2f754748d"
   },
   "outputs": [],
   "source": [
    "from qiskit import QuantumCircuit, QuantumRegister, ClassicalRegister\n",
    "# 도이치 오라클 함수를 호출하여 도이치 회로를 circuit 이라는 이름의 객체로 구현 (회로가 수행되는 것은 아님에 주의)\n",
    "qx = QuantumRegister(1,'x') # 1 큐비트의 양자 레지스터 객체를 qx 라는 이름으로 생성, 회로에는 'x'로 표시\n",
    "qy = QuantumRegister(1,'y') # 1 큐비트의 양자 레지스터 객체를 qy 라는 이름으로 생성, 회로에는 'y'로 표시\n",
    "c = ClassicalRegister(1,'c') # 1 비트의 고전 레지스터 객체를 c 라는 이름으로 생성, 회로에는 'c'로 표시\n",
    "circuit = QuantumCircuit(qy, qx, c) # qy,qx,c 를 가지는 양자 회로를 circuit 이라는 이름의 객체로 생성\n",
    "\n",
    "circuit.h(qx[0])                 # qx 의 제일 낮은 자리 큐비트에 H gate 적용\n",
    "circuit.barrier()\n",
    "circuit.x(qy)                    # qy 에 X gate -> qy 상태가 |1> 이 됨\n",
    "circuit.h(qy)                    # qy 에 H gate -> qy 상태가 |-> 이 됨\n",
    "\n",
    "\n",
    "circuit.barrier()\n",
    "# deutsch_oracle_circuit() 을 호출하여 오라클 회로를 circuit 에 추가\n",
    "circuit.compose(deutsch_oracle_circuit_x(), [0,1], inplace=True)\n",
    "\n",
    "circuit.barrier()\n",
    "\n",
    "circuit.h(qx[0])           # qx 의 제일 낮은 자리 큐비트에 H gate 적용\n",
    "circuit.measure(qx,c)      # qx 레지스터의 모든 큐비트들을 측정하여 c 레지스터로 읽는 회로를 구현\n",
    "circuit.draw(output='mpl',plot_barriers=0) # circuit 회로를 matplot library 형식의 그림 화일로 출력"
   ]
  },
  {
   "cell_type": "code",
   "execution_count": null,
   "id": "5iYoUBxC5I0_",
   "metadata": {
    "colab": {
     "base_uri": "https://localhost:8080/",
     "height": 272
    },
    "id": "5iYoUBxC5I0_",
    "outputId": "72fb6966-f6b8-4604-d49c-699bba2b2265"
   },
   "outputs": [],
   "source": [
    "from qiskit import QuantumCircuit, QuantumRegister, ClassicalRegister\n",
    "# 도이치 오라클 함수를 호출하여 도이치 회로를 circuit 이라는 이름의 객체로 구현 (회로가 수행되는 것은 아님에 주의)\n",
    "qx = QuantumRegister(1,'x') # 1 큐비트의 양자 레지스터 객체를 qx 라는 이름으로 생성, 회로에는 'x'로 표시\n",
    "qy = QuantumRegister(1,'y') # 1 큐비트의 양자 레지스터 객체를 qy 라는 이름으로 생성, 회로에는 'y'로 표시\n",
    "c = ClassicalRegister(1,'c') # 1 비트의 고전 레지스터 객체를 c 라는 이름으로 생성, 회로에는 'c'로 표시\n",
    "circuit = QuantumCircuit(qy, qx, c) # qy,qx,c 를 가지는 양자 회로를 circuit 이라는 이름의 객체로 생성\n",
    "circuit.x(qy)                    # qy 에 X gate -> qy 상태가 |1> 이 됨\n",
    "circuit.h(qy)                    # qy 에 H gate -> qy 상태가 |-> 이 됨\n",
    "circuit.h(qx)                 # qx 의 제일 낮은 자리 큐비트에 H gate 적용\n",
    "\n",
    "# deutsch_oracle_circuit() 을 호출하여 오라클 회로를 circuit 에 추가\n",
    "circuit.append(deutsch_oracle_circuit(), [0,1])\n",
    "\n",
    "circuit.h(qx)           # qx 의 제일 낮은 자리 큐비트에 H gate 적용\n",
    "circuit.measure(qx,c)      # qx 레지스터의 모든 큐비트들을 측정하여 c 레지스터로 읽는 회로를 구현\n",
    "circuit.draw(output='mpl') # circuit 회로를 matplot library 형식의 그림 화일로 출력\n"
   ]
  },
  {
   "cell_type": "code",
   "execution_count": null,
   "id": "hIh9NryXfRP8",
   "metadata": {
    "colab": {
     "base_uri": "https://localhost:8080/"
    },
    "id": "hIh9NryXfRP8",
    "outputId": "56cbe533-d570-4a7d-ec31-c52437d25b8f"
   },
   "outputs": [],
   "source": [
    "# AerSimulator 를 이용하여 circuit 회로를 측정한 결과를 출력\n",
    "from qiskit.transpiler.preset_passmanagers import generate_preset_pass_manager\n",
    "from qiskit_ibm_runtime import SamplerV2 as Sampler\n",
    "from qiskit_aer import AerSimulator\n",
    "\n",
    "aer_sim = AerSimulator()\n",
    "pm = generate_preset_pass_manager(backend=aer_sim, optimization_level=1)\n",
    "\n",
    "isa_circuit = pm.run(circuit)\n",
    "sampler = Sampler(mode=aer_sim)\n",
    "job = sampler.run([isa_circuit], shots=1)\n",
    "result = job.result()\n",
    "count = result[0].data.c.get_counts()\n",
    "print (count)"
   ]
  }
 ],
 "metadata": {
  "colab": {
   "provenance": []
  },
  "kernelspec": {
   "display_name": ".venv",
   "language": "python",
   "name": "python3"
  },
  "language_info": {
   "codemirror_mode": {
    "name": "ipython",
    "version": 3
   },
   "file_extension": ".py",
   "mimetype": "text/x-python",
   "name": "python",
   "nbconvert_exporter": "python",
   "pygments_lexer": "ipython3",
   "version": "3.10.4"
  }
 },
 "nbformat": 4,
 "nbformat_minor": 5
}
