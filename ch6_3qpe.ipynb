{
 "cells": [
  {
   "cell_type": "code",
   "execution_count": null,
   "id": "cTpCLThejv45",
   "metadata": {
    "colab": {
     "base_uri": "https://localhost:8080/"
    },
    "executionInfo": {
     "elapsed": 28138,
     "status": "ok",
     "timestamp": 1727769092356,
     "user": {
      "displayName": "Eun-Jin Im",
      "userId": "12874128355928418134"
     },
     "user_tz": -540
    },
    "id": "cTpCLThejv45",
    "outputId": "fadea7a3-9055-4922-a573-9a2e03f848ef"
   },
   "outputs": [],
   "source": [
    "!pip install qiskit qiskit-ibm-runtime pylatexenc qiskit_aer\n"
   ]
  },
  {
   "cell_type": "code",
   "execution_count": null,
   "id": "64edd7b7-9411-4b87-90e9-60cbe6fefa7c",
   "metadata": {
    "colab": {
     "base_uri": "https://localhost:8080/",
     "height": 35
    },
    "executionInfo": {
     "elapsed": 1584,
     "status": "ok",
     "timestamp": 1727769098801,
     "user": {
      "displayName": "Eun-Jin Im",
      "userId": "12874128355928418134"
     },
     "user_tz": -540
    },
    "id": "64edd7b7-9411-4b87-90e9-60cbe6fefa7c",
    "outputId": "adcd2e37-3484-4f2d-883a-0f655a69ac9d",
    "tags": []
   },
   "outputs": [],
   "source": [
    "\n",
    "#initialization\n",
    "\n",
    "import numpy as np\n",
    "from numpy import linalg as LA\n",
    "\n",
    "# importing Qiskit\n",
    "from qiskit import QuantumCircuit, QuantumRegister, ClassicalRegister\n",
    "from qiskit.circuit.library import QFT\n",
    "\n",
    "import qiskit\n",
    "qiskit.version.get_version_info()\n",
    "\n"
   ]
  },
  {
   "cell_type": "code",
   "execution_count": null,
   "id": "bc770e4d",
   "metadata": {
    "colab": {
     "base_uri": "https://localhost:8080/",
     "height": 533
    },
    "executionInfo": {
     "elapsed": 1912,
     "status": "ok",
     "timestamp": 1727740636539,
     "user": {
      "displayName": "Eun-Jin Im",
      "userId": "12874128355928418134"
     },
     "user_tz": -540
    },
    "id": "bc770e4d",
    "outputId": "90815241-f994-4cb2-d70f-7866425caa53"
   },
   "outputs": [],
   "source": [
    "# phase estimation circuit\n",
    "import numpy as np\n",
    "from qiskit import QuantumCircuit, QuantumRegister, ClassicalRegister\n",
    "from qiskit.circuit.library import QFT\n",
    "\n",
    "t = 3\n",
    "n = 1\n",
    "qx = QuantumRegister(t,'qx')\n",
    "qy = QuantumRegister(n,'qy')\n",
    "c = ClassicalRegister(t,'c')\n",
    "qpe = QuantumCircuit(qx, qy, c)\n",
    "\n",
    "phase = 1/8\n",
    "qpe.x(qy) # eigenstate |1>\n",
    "qpe.barrier()\n",
    "qpe.h(qx)\n",
    "Un = 1\n",
    "for qx_i in range(t):\n",
    "    for i in range(Un):\n",
    "        qpe.cp(2*np.pi*phase, qx[qx_i], qy); # controlled-P\n",
    "    Un *= 2\n",
    "\n",
    "qpe.compose(QFT(t, inverse=True), qx[:], inplace=True)\n",
    "qpe.measure(qx,c)\n",
    "qpe.draw(fold=-1, output='mpl')\n"
   ]
  },
  {
   "cell_type": "code",
   "execution_count": null,
   "id": "027c8f2f",
   "metadata": {},
   "outputs": [],
   "source": [
    "from qiskit.transpiler.preset_passmanagers import generate_preset_pass_manager\n",
    "from qiskit_ibm_runtime import SamplerV2 as Sampler\n",
    "from qiskit_aer import AerSimulator\n",
    "aer_sim = AerSimulator()\n",
    "pm = generate_preset_pass_manager(backend=aer_sim, optimization_level=1)\n",
    "isa_circuit = pm.run(qpe)\n",
    "sampler = Sampler(mode=aer_sim)\n",
    "job = sampler.run([isa_circuit], shots=1)\n",
    "result = job.result()\n",
    "count = result[0].data.c.get_counts()\n",
    "print(count)\n"
   ]
  },
  {
   "cell_type": "code",
   "execution_count": null,
   "id": "64abc4c8",
   "metadata": {},
   "outputs": [],
   "source": [
    "# phase estimation circuit\n",
    "import numpy as np\n",
    "from qiskit import QuantumCircuit, QuantumRegister, ClassicalRegister\n",
    "from qiskit.circuit.library import QFT\n",
    "\n",
    "t = 3\n",
    "n = 1\n",
    "qx = QuantumRegister(t,'qx')\n",
    "qy = QuantumRegister(n,'qy')\n",
    "c = ClassicalRegister(t,'c')\n",
    "qpe = QuantumCircuit(qx, qy, c)\n",
    "\n",
    "phase = 1/3\n",
    "qpe.x(qy) # eigenstate |1>\n",
    "qpe.barrier()\n",
    "qpe.h(qx)\n",
    "Un = 1\n",
    "for qx_i in range(t):\n",
    "    for i in range(Un):\n",
    "        qpe.cp(2*np.pi*phase, qx[qx_i], qy); # controlled-P\n",
    "    Un *= 2\n",
    "\n",
    "qpe.compose(QFT(t, inverse=True), qx[:], inplace=True)\n",
    "qpe.measure(qx,c)\n",
    "qpe.draw(fold=-1, output='mpl')\n"
   ]
  },
  {
   "cell_type": "code",
   "execution_count": null,
   "id": "b2f2f43d",
   "metadata": {},
   "outputs": [],
   "source": [
    "from qiskit.transpiler.preset_passmanagers import generate_preset_pass_manager\n",
    "from qiskit_ibm_runtime import SamplerV2 as Sampler\n",
    "from qiskit_aer import AerSimulator\n",
    "aer_sim = AerSimulator()\n",
    "pm = generate_preset_pass_manager(backend=aer_sim, optimization_level=1)\n",
    "isa_circuit = pm.run(qpe)\n",
    "sampler = Sampler(mode=aer_sim)\n",
    "job = sampler.run([isa_circuit], shots=10000)\n",
    "result = job.result()\n",
    "count = result[0].data.c.get_counts()\n",
    "print(count)\n",
    "\n",
    "from qiskit.visualization import plot_distribution\n",
    "plot_distribution(count)\n"
   ]
  },
  {
   "cell_type": "code",
   "execution_count": null,
   "id": "31d167a5",
   "metadata": {},
   "outputs": [],
   "source": [
    "# phase estimation circuit\n",
    "import numpy as np\n",
    "from qiskit import QuantumCircuit, QuantumRegister, ClassicalRegister\n",
    "from qiskit.circuit.library import QFT\n",
    "\n",
    "t = 5\n",
    "n = 1\n",
    "qx = QuantumRegister(t,'qx')\n",
    "qy = QuantumRegister(n,'qy')\n",
    "c = ClassicalRegister(t,'c')\n",
    "qpe = QuantumCircuit(qx, qy, c)\n",
    "\n",
    "phase = 1/3\n",
    "qpe.x(qy) # eigenstate |1>\n",
    "qpe.barrier()\n",
    "qpe.h(qx)\n",
    "Un = 1\n",
    "for qx_i in range(t):\n",
    "    for i in range(Un):\n",
    "        qpe.cp(2*np.pi*phase, qx[qx_i], qy); # controlled-P\n",
    "    Un *= 2\n",
    "\n",
    "qpe.compose(QFT(t, inverse=True), qx[:], inplace=True)\n",
    "qpe.measure(qx,c)\n",
    "qpe.draw(fold=-1, output='mpl')\n"
   ]
  },
  {
   "cell_type": "code",
   "execution_count": null,
   "id": "f456fe6d",
   "metadata": {},
   "outputs": [],
   "source": [
    "from qiskit.transpiler.preset_passmanagers import generate_preset_pass_manager\n",
    "from qiskit_ibm_runtime import SamplerV2 as Sampler\n",
    "from qiskit_aer import AerSimulator\n",
    "aer_sim = AerSimulator()\n",
    "pm = generate_preset_pass_manager(backend=aer_sim, optimization_level=1)\n",
    "isa_circuit = pm.run(qpe)\n",
    "sampler = Sampler(mode=aer_sim)\n",
    "job = sampler.run([isa_circuit], shots=10000)\n",
    "result = job.result()\n",
    "count = result[0].data.c.get_counts()\n",
    "print(count)\n",
    "\n",
    "from qiskit.visualization import plot_distribution\n",
    "plot_distribution(count)\n"
   ]
  },
  {
   "cell_type": "code",
   "execution_count": null,
   "id": "64091957",
   "metadata": {},
   "outputs": [],
   "source": [
    "U = [[np.exp(2j*np.pi/8), 0, 0, 0],\n",
    "        [0, np.exp(2j*np.pi*2/8), 0, 0],\n",
    "        [0, 0, np.exp(2j*np.pi*3/8), 0],\n",
    "        [0, 0, 0, np.exp(2j*np.pi*4/8)]]\n",
    "\n",
    "from qiskit.visualization import array_to_latex\n",
    "array_to_latex(U, prefix=\"U = \",max_size=16)"
   ]
  },
  {
   "cell_type": "code",
   "execution_count": null,
   "id": "BTMJPc51jvDL",
   "metadata": {
    "colab": {
     "base_uri": "https://localhost:8080/",
     "height": 191
    },
    "executionInfo": {
     "elapsed": 608,
     "status": "ok",
     "timestamp": 1727769118567,
     "user": {
      "displayName": "Eun-Jin Im",
      "userId": "12874128355928418134"
     },
     "user_tz": -540
    },
    "id": "BTMJPc51jvDL",
    "outputId": "0f610c7e-0729-436b-f25f-18df0cbacf4c"
   },
   "outputs": [],
   "source": [
    "Ucircuit = QuantumCircuit(2)\n",
    "Ucircuit.unitary(U, [0,1])\n",
    "Ucircuit.draw(output='mpl')"
   ]
  },
  {
   "cell_type": "code",
   "execution_count": null,
   "id": "a3SwPohRjvDL",
   "metadata": {
    "colab": {
     "base_uri": "https://localhost:8080/",
     "height": 255
    },
    "executionInfo": {
     "elapsed": 315,
     "status": "ok",
     "timestamp": 1727769122357,
     "user": {
      "displayName": "Eun-Jin Im",
      "userId": "12874128355928418134"
     },
     "user_tz": -540
    },
    "id": "a3SwPohRjvDL",
    "outputId": "5009375a-10ad-4481-a29f-51e890ec5790"
   },
   "outputs": [],
   "source": [
    "                 \n",
    "# Ucircuit 을 Gate 객체 Ugate 로 만들고 이름을 \"U\"로 정한다.\n",
    "Ugate = Ucircuit.to_gate()\n",
    "Ugate.name = \"U\"\n",
    "\n",
    "# 제어-U 게이트 cUgate 를 만들고 양자 회로 qc 에 연결한다.\n",
    "cUgate = Ugate.control(1)\n",
    "qc = QuantumCircuit(3)\n",
    "qc.append(cUgate, [0,1,2]) # q0 is control\n",
    "qc.draw(output='mpl')"
   ]
  },
  {
   "cell_type": "code",
   "execution_count": null,
   "id": "c7cb1d7d",
   "metadata": {},
   "outputs": [],
   "source": [
    "# 2-qubit U gate 의 QPE 회로\n",
    "import numpy as np\n",
    "from qiskit import QuantumCircuit, QuantumRegister, ClassicalRegister\n",
    "from qiskit.circuit.library import QFT\n",
    "\n",
    "t = 3\n",
    "n = 2\n",
    "qx = QuantumRegister(t,'x')\n",
    "qy = QuantumRegister(n,'y')\n",
    "c = ClassicalRegister(t,'c')\n",
    "qpe = QuantumCircuit(qx, qy, c)\n",
    "\n",
    "qpe.x(qy[0]) # 고유벡터 |01>\n",
    "qpe.barrier()\n",
    "qpe.h(qx)\n",
    "Un = 1\n",
    "for qx_i in range(t):\n",
    "    for i in range(Un):\n",
    "        qpe.append(cUgate, [qx[qx_i], qy[0], qy[1]]); # controlled-U\n",
    "    Un *= 2\n",
    "\n",
    "qpe.compose(QFT(t, inverse=True), qx[:], inplace=True)\n",
    "qpe.measure(qx,c)\n",
    "qpe.draw(fold=-1, output='mpl')"
   ]
  },
  {
   "cell_type": "code",
   "execution_count": null,
   "id": "dcbe3bc5",
   "metadata": {},
   "outputs": [],
   "source": [
    "# phase estimation using PhaseEstimation class with QFT\n",
    "from qiskit.circuit.library import QFT,PhaseEstimation                   # type: ignore\n",
    "t = 3\n",
    "n = 2\n",
    "qx = QuantumRegister(t,'x')\n",
    "qy = QuantumRegister(n,'y')\n",
    "c = ClassicalRegister(t,'c')\n",
    "qpe = QuantumCircuit(qx, qy, c)\n",
    "qpe.x(qy[0]) # input state = |1>\n",
    "qpe.append(PhaseEstimation(t,Ugate,QFT(t,inverse=True)),qx[:]+qy[:])\n",
    "qpe.measure(qx,c)\n",
    "qpe.draw(output='mpl',fold=-1)"
   ]
  },
  {
   "cell_type": "code",
   "execution_count": null,
   "id": "38a9efae",
   "metadata": {},
   "outputs": [],
   "source": [
    "# phase estimation using PhaseEstimation class with default QFT\n",
    "from qiskit.circuit.library import QFT,PhaseEstimation            # type: ignore\n",
    "t = 3\n",
    "n = 2\n",
    "qx = QuantumRegister(t,'x')\n",
    "qy = QuantumRegister(n,'y')\n",
    "c = ClassicalRegister(t,'c')\n",
    "qpe = QuantumCircuit(qx, qy, c)\n",
    "qpe.x(qy[0]) # input state = |1>\n",
    "qpe.append(PhaseEstimation(t,Ugate),qx[:]+qy[:])\n",
    "qpe.measure(qx,reversed(c))\n",
    "qpe.draw(output='mpl',fold=-1)"
   ]
  }
 ],
 "metadata": {
  "colab": {
   "provenance": []
  },
  "kernelspec": {
   "display_name": ".venv",
   "language": "python",
   "name": "python3"
  },
  "language_info": {
   "codemirror_mode": {
    "name": "ipython",
    "version": 3
   },
   "file_extension": ".py",
   "mimetype": "text/x-python",
   "name": "python",
   "nbconvert_exporter": "python",
   "pygments_lexer": "ipython3",
   "version": "3.10.4"
  }
 },
 "nbformat": 4,
 "nbformat_minor": 5
}
