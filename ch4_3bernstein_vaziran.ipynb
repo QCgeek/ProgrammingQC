{
 "cells": [
  {
   "cell_type": "code",
   "execution_count": null,
   "id": "J89Bg1pJNpKO",
   "metadata": {
    "colab": {
     "base_uri": "https://localhost:8080/"
    },
    "id": "J89Bg1pJNpKO",
    "outputId": "af8bceaf-4d7f-43a6-ecac-84d3a8e89549"
   },
   "outputs": [],
   "source": [
    "!pip install qiskit qiskit-ibm-runtime pylatexenc qiskit_aer"
   ]
  },
  {
   "cell_type": "code",
   "execution_count": null,
   "id": "cf5f7a8b-beff-4ea5-94f7-5100156929a5",
   "metadata": {
    "colab": {
     "base_uri": "https://localhost:8080/",
     "height": 338
    },
    "id": "cf5f7a8b-beff-4ea5-94f7-5100156929a5",
    "outputId": "ae2778ca-57eb-4612-b89d-deacf8cb1f09"
   },
   "outputs": [],
   "source": [
    "from qiskit import QuantumCircuit, QuantumRegister, ClassicalRegister\n",
    "import numpy as np\n",
    "# 임의의 s 에 대한 n-qubit 의 번스타인-바지라니 오라클 회로를 구현하는 함수\n",
    "def bv_oracle_circuit(n):\n",
    "    qy = QuantumRegister(1, 'y')\n",
    "    qx = QuantumRegister(n, 'x')\n",
    "    qc = QuantumCircuit(qy, qx) # qc 라는 이름의 n+1큐비트 양자 회로 객체를 생성\n",
    "\n",
    "    np.random.seed()       # numpy 의 random  함수를 초기화\n",
    "    s = np.random.randint(2,size=n) # [0,2) 의 정수를 무작위로 n 개 생성\n",
    "    print (\"s = \", s)\n",
    "    # implement |x,y> ->|x, y XOR f(X)>\n",
    "    # where f(x) = x[0]s[0] XOR x[1]s[1] ... XOR x[n-1]s[n-1]\n",
    "    for i in range(n):\n",
    "        if s[i] == 1:      # 생성된 i 번째 난수가 1인 경우에만\n",
    "            qc.cx(qx[i],qy)   # 제어 큐비트 n, 타겟 큐비트 0 인 CX(CNOT) gate\n",
    "    qc.name = \"BV Oracle\"\n",
    "    return qc              # qc 객체를 반환\n",
    "\n",
    "circuit = bv_oracle_circuit(5)\n",
    "circuit.draw(output='mpl')"
   ]
  },
  {
   "cell_type": "code",
   "execution_count": null,
   "id": "cbfa9fac",
   "metadata": {},
   "outputs": [],
   "source": [
    "# 번스타인-바지라니 오라클 함수를 호출하여 번스타인-바지라니 회로를 circuit 이라는 이름의 객체로 구현\n",
    "n = 5\n",
    "qx = QuantumRegister(n,'x')  # n 큐비트의 양자 레지스터 객체를 qx 라는 이름으로 생성, 회로에는 'x'로 표시\n",
    "qy = QuantumRegister(1,'y')  # 1 큐비트의 양자 레지스터 객체를 qy 라는 이름으로 생성, 회로에는 'y'로 표시\n",
    "c = ClassicalRegister(n,'c') # 1 비트의 고전 레지스터 객체를 c 라는 이름으로 생성, 회로에는 'c'로 표시\n",
    "circuit = QuantumCircuit(qy, qx, c) # qy,qx,c 를 가지는 양자 회로를 circuit 이라는 이름의 객체로 생성\n",
    "circuit.x(qy)                # qy 큐비트에 X gate -> qy 큐비트 상태가 |1> 이 됨\n",
    "circuit.h(qy)                # qy 큐비트에 H gate -> qy 큐비트 상태가 |-> 이 됨\n",
    "circuit.h(qx)                # qx 의 모든 큐비트에 H gate 적용\n",
    "circuit.barrier()\n",
    "# bv_oracle_circuit() 을 호출하여 오라클 회로를 circuit 에 추가\n",
    "circuit.compose(bv_oracle_circuit(n), range(n+1), inplace=True)\n",
    "circuit.barrier()\n",
    "circuit.h(qx)              # qx 의 모든 큐비트에 H gate 적용\n",
    "circuit.measure(qx,reversed(c)) # qx 레지스터의 모든 큐비트들을 c 레지스터에서 역순으로 측정하는 회로를 구현\n",
    "circuit.draw(output='mpl') # circuit 회로를 matplot library 형식의 그림 화일로 출력"
   ]
  },
  {
   "cell_type": "code",
   "execution_count": null,
   "id": "pBTN2pJCc9Mt",
   "metadata": {
    "colab": {
     "base_uri": "https://localhost:8080/"
    },
    "id": "pBTN2pJCc9Mt",
    "outputId": "afbf30bf-d70e-4a80-9564-fd5afffd963b"
   },
   "outputs": [],
   "source": [
    "# AerSimulator 를 이용하여 circuit 회로를 측정한 결과를 출력\n",
    "from qiskit.transpiler.preset_passmanagers import generate_preset_pass_manager\n",
    "from qiskit_ibm_runtime import SamplerV2 as Sampler\n",
    "from qiskit_aer import AerSimulator\n",
    "\n",
    "aer_sim = AerSimulator()\n",
    "pm = generate_preset_pass_manager(backend=aer_sim, optimization_level=1)\n",
    "\n",
    "isa_circuit = pm.run(circuit)\n",
    "sampler = Sampler(mode=aer_sim)\n",
    "job = sampler.run([isa_circuit], shots=1)\n",
    "result = job.result()\n",
    "count = result[0].data.c.get_counts()\n",
    "print (count)"
   ]
  },
  {
   "cell_type": "code",
   "execution_count": null,
   "id": "bYbbX6wg9GeR",
   "metadata": {
    "colab": {
     "base_uri": "https://localhost:8080/"
    },
    "id": "bYbbX6wg9GeR",
    "outputId": "a7a750f3-cc44-446a-fbc8-12ab74fe2744"
   },
   "outputs": [],
   "source": [
    "print (f'The hidden string s is {list(count.keys())[0]}')\n"
   ]
  }
 ],
 "metadata": {
  "colab": {
   "provenance": []
  },
  "kernelspec": {
   "display_name": ".venv",
   "language": "python",
   "name": "python3"
  },
  "language_info": {
   "codemirror_mode": {
    "name": "ipython",
    "version": 3
   },
   "file_extension": ".py",
   "mimetype": "text/x-python",
   "name": "python",
   "nbconvert_exporter": "python",
   "pygments_lexer": "ipython3",
   "version": "3.10.4"
  }
 },
 "nbformat": 4,
 "nbformat_minor": 5
}
