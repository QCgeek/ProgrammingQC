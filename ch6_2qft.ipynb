{
 "cells": [
  {
   "cell_type": "code",
   "execution_count": null,
   "id": "OcXH23FMhSCk",
   "metadata": {
    "colab": {
     "base_uri": "https://localhost:8080/"
    },
    "executionInfo": {
     "elapsed": 23134,
     "status": "ok",
     "timestamp": 1727656928078,
     "user": {
      "displayName": "Eun-Jin Im",
      "userId": "12874128355928418134"
     },
     "user_tz": -540
    },
    "id": "OcXH23FMhSCk",
    "outputId": "a9c1c79b-4e0d-411d-d38c-cd221cd0d12d"
   },
   "outputs": [],
   "source": [
    "!pip install qiskit qiskit-ibm-runtime pylatexenc qiskit_aer"
   ]
  },
  {
   "cell_type": "code",
   "execution_count": null,
   "id": "4080c642-480e-4e29-91e3-37f7da5a3571",
   "metadata": {
    "colab": {
     "base_uri": "https://localhost:8080/",
     "height": 35
    },
    "executionInfo": {
     "elapsed": 1252,
     "status": "ok",
     "timestamp": 1727592328827,
     "user": {
      "displayName": "Eun-Jin Im",
      "userId": "12874128355928418134"
     },
     "user_tz": -540
    },
    "id": "4080c642-480e-4e29-91e3-37f7da5a3571",
    "outputId": "a1cb8a2d-47e1-4dd1-b08b-aee761f5a097"
   },
   "outputs": [],
   "source": [
    "import qiskit\n",
    "import numpy as np\n",
    "#qiskit.__qiskit_version__ # deprecated\n",
    "qiskit.version.get_version_info()\n"
   ]
  },
  {
   "cell_type": "code",
   "execution_count": null,
   "id": "8024c21b",
   "metadata": {
    "colab": {
     "base_uri": "https://localhost:8080/",
     "height": 255
    },
    "executionInfo": {
     "elapsed": 921,
     "status": "ok",
     "timestamp": 1727666722739,
     "user": {
      "displayName": "Eun-Jin Im",
      "userId": "12874128355928418134"
     },
     "user_tz": -540
    },
    "id": "8024c21b",
    "outputId": "ae827eef-3a0b-4730-c9f3-5236c1d54e99"
   },
   "outputs": [],
   "source": [
    "\n",
    "import numpy as np\n",
    "from qiskit import QuantumCircuit,QuantumRegister\n",
    "\n",
    "# 3 qubit 양자 회로를 초기화한다.\n",
    "qr = QuantumRegister(3,'x')\n",
    "qc = QuantumCircuit(qr)\n",
    "\n",
    "# 입력상태를 0b110 로 초기화한다.\n",
    "qc.x(qr[1:3])\n",
    "qc.barrier()\n",
    "\n",
    "# 3 qubit QFT circuit\n",
    "qc.h(2)\n",
    "qc.cp(np.pi/2, 1, 2) # cR2\n",
    "qc.cp(np.pi/4, 0, 2) # cR3\n",
    "qc.h(1)\n",
    "qc.cp(np.pi/2, 0, 1) # cR2\n",
    "qc.h(0)\n",
    "qc.swap(0,2) # reverse qubit order\n",
    "qc.draw(output='mpl')"
   ]
  },
  {
   "cell_type": "code",
   "execution_count": null,
   "id": "P3KMTmhNhcHE",
   "metadata": {
    "colab": {
     "base_uri": "https://localhost:8080/"
    },
    "executionInfo": {
     "elapsed": 1659,
     "status": "ok",
     "timestamp": 1727672673671,
     "user": {
      "displayName": "Eun-Jin Im",
      "userId": "12874128355928418134"
     },
     "user_tz": -540
    },
    "id": "P3KMTmhNhcHE",
    "outputId": "d44e079d-71fb-439a-d081-8e7a676225f6"
   },
   "outputs": [],
   "source": [
    "# 2. Add the classical output in the form of measurement of all qubits\n",
    "qc_measured = qc.measure_all(inplace=False)\n",
    "\n",
    "# 3. Execute using a simulator\n",
    "from qiskit.transpiler.preset_passmanagers import generate_preset_pass_manager\n",
    "from qiskit_ibm_runtime import SamplerV2 as Sampler\n",
    "from qiskit_aer import AerSimulator\n",
    "aer_sim = AerSimulator()\n",
    "pm = generate_preset_pass_manager(backend=aer_sim, optimization_level=1)\n",
    "isa_circuit = pm.run(qc_measured)\n",
    "sampler = Sampler(mode=aer_sim)\n",
    "job = sampler.run([isa_circuit], shots=1000)\n",
    "result = job.result()\n",
    "count = result[0].data.meas.get_counts()\n",
    "print(count)"
   ]
  },
  {
   "cell_type": "code",
   "execution_count": null,
   "id": "ce15b1b6",
   "metadata": {
    "colab": {
     "base_uri": "https://localhost:8080/",
     "height": 461
    },
    "executionInfo": {
     "elapsed": 378,
     "status": "ok",
     "timestamp": 1727592692557,
     "user": {
      "displayName": "Eun-Jin Im",
      "userId": "12874128355928418134"
     },
     "user_tz": -540
    },
    "id": "ce15b1b6",
    "outputId": "78f1b99b-00d5-40ba-9b7e-8a17149ce72b"
   },
   "outputs": [],
   "source": [
    "from qiskit.visualization import plot_distribution\n",
    "plot_distribution(count, figsize=(5, 5))\n"
   ]
  },
  {
   "cell_type": "code",
   "execution_count": null,
   "id": "fac99b46",
   "metadata": {},
   "outputs": [],
   "source": [
    "# 회로의 양자 상태를 상태 벡터로 출력\n",
    "from qiskit.quantum_info import Statevector\n",
    "sv = Statevector(qc)\n",
    "sv.draw(output = 'latex')"
   ]
  },
  {
   "cell_type": "code",
   "execution_count": null,
   "id": "c9558920-7d28-499b-aca8-2a57842ffba1",
   "metadata": {
    "colab": {
     "base_uri": "https://localhost:8080/",
     "height": 255
    },
    "executionInfo": {
     "elapsed": 516,
     "status": "ok",
     "timestamp": 1727672510763,
     "user": {
      "displayName": "Eun-Jin Im",
      "userId": "12874128355928418134"
     },
     "user_tz": -540
    },
    "id": "c9558920-7d28-499b-aca8-2a57842ffba1",
    "outputId": "b6c1c974-29e0-4f5d-b22e-a7863bd62450",
    "tags": []
   },
   "outputs": [],
   "source": [
    "from qiskit.circuit.library import QFT\n",
    "\n",
    "# 3 qubit 양자 회로를 초기화한다.\n",
    "qc = QuantumCircuit(3)\n",
    "\n",
    "# 입력상태를 0b110 로 초기화한다.\n",
    "qc.x([1,2])\n",
    "qft_c = QFT(3)\n",
    "qc.compose(qft_c, range(3), inplace=True)\n",
    "\n",
    "qc.draw(output='mpl')"
   ]
  },
  {
   "cell_type": "code",
   "execution_count": null,
   "id": "LCWiAzSVT4QP",
   "metadata": {
    "colab": {
     "base_uri": "https://localhost:8080/",
     "height": 255
    },
    "executionInfo": {
     "elapsed": 820,
     "status": "ok",
     "timestamp": 1727672653296,
     "user": {
      "displayName": "Eun-Jin Im",
      "userId": "12874128355928418134"
     },
     "user_tz": -540
    },
    "id": "LCWiAzSVT4QP",
    "outputId": "10ab91dc-0746-4384-f296-dd5820b84f81"
   },
   "outputs": [],
   "source": [
    "from qiskit.circuit.library import QFT\n",
    "\n",
    "# 3 qubit 양자 회로를 초기화한다.\n",
    "qc = QuantumCircuit(3)\n",
    "\n",
    "# 입력상태를 0b110 로 초기화한다.\n",
    "qc.x([1,2])\n",
    "\n",
    "qc.compose(QFT(3), range(3), inplace=True)\n",
    "qc.compose(QFT(3, inverse=True), range(3), inplace=True)\n",
    "qc.draw(output='mpl')"
   ]
  },
  {
   "cell_type": "code",
   "execution_count": null,
   "id": "01b7a925",
   "metadata": {},
   "outputs": [],
   "source": [
    "# 2. Add the classical output in the form of measurement of all qubits\n",
    "qc_measured = qc.measure_all(inplace=False)\n",
    "\n",
    "# 3. Execute using a simulator\n",
    "from qiskit.transpiler.preset_passmanagers import generate_preset_pass_manager\n",
    "from qiskit_ibm_runtime import SamplerV2 as Sampler\n",
    "from qiskit_aer import AerSimulator\n",
    "aer_sim = AerSimulator()\n",
    "pm = generate_preset_pass_manager(backend=aer_sim, optimization_level=1)\n",
    "isa_circuit = pm.run(qc_measured)\n",
    "sampler = Sampler(mode=aer_sim)\n",
    "job = sampler.run([isa_circuit], shots=1000)\n",
    "result = job.result()\n",
    "count = result[0].data.meas.get_counts()\n",
    "print(count)"
   ]
  }
 ],
 "metadata": {
  "colab": {
   "provenance": []
  },
  "kernelspec": {
   "display_name": ".venv",
   "language": "python",
   "name": "python3"
  },
  "language_info": {
   "codemirror_mode": {
    "name": "ipython",
    "version": 3
   },
   "file_extension": ".py",
   "mimetype": "text/x-python",
   "name": "python",
   "nbconvert_exporter": "python",
   "pygments_lexer": "ipython3",
   "version": "3.10.4"
  }
 },
 "nbformat": 4,
 "nbformat_minor": 5
}
