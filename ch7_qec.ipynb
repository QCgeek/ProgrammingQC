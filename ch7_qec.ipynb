{
 "cells": [
  {
   "cell_type": "code",
   "execution_count": null,
   "metadata": {},
   "outputs": [],
   "source": [
    "!pip install qiskit qiskit-ibm-runtime qiskit-aer pylatexenc   \n",
    "!pip install matplotlib \n"
   ]
  },
  {
   "cell_type": "code",
   "execution_count": null,
   "metadata": {},
   "outputs": [],
   "source": [
    "import qiskit\n",
    "import numpy as np\n",
    "qiskit.version.get_version_info()\n"
   ]
  },
  {
   "cell_type": "code",
   "execution_count": null,
   "metadata": {},
   "outputs": [],
   "source": [
    "# 단일 큐비트 비트-뒤집기 오류 정정 코드\n",
    "from qiskit import QuantumCircuit, QuantumRegister\n",
    "import numpy as np\n",
    "qx = QuantumRegister(3,'x')\n",
    "qa = QuantumRegister(2,'a')\n",
    "circuit = QuantumCircuit(qx,qa)\n",
    "\n",
    "# 임의의 논리 상태로 초기화 theta = 0.27pi phi = 0.87pi lambda = 0.56\n",
    "#circuit.u(0.27*np.pi,0.87*np.pi,0.56*np.pi,qx[0])\n",
    "circuit.x(2)\n",
    "# 3-큐비트 코드워드 생성\n",
    "circuit.cx(qx[2],qx[0])\n",
    "circuit.cx(qx[2],qx[1])\n",
    "\n",
    "circuit.draw(output='mpl')"
   ]
  },
  {
   "cell_type": "code",
   "execution_count": null,
   "metadata": {
    "colab": {
     "base_uri": "https://localhost:8080/",
     "height": 384
    },
    "executionInfo": {
     "elapsed": 1327,
     "status": "ok",
     "timestamp": 1724891658583,
     "user": {
      "displayName": "Eun-Jin Im",
      "userId": "12874128355928418134"
     },
     "user_tz": -540
    },
    "id": "ECywrmmpiWHZ",
    "outputId": "d509409c-8124-4aed-bb30-c5052a01a2d9"
   },
   "outputs": [],
   "source": [
    "\n",
    "circuit.barrier()\n",
    "# x1 에 비트 뒤집기 오류 추가\n",
    "circuit.x(qx[1])\n",
    "circuit.barrier()\n",
    "\n",
    "# 오류 검출\n",
    "circuit.cx(qx[0],qa[0])\n",
    "circuit.cx(qx[1],qa[0])\n",
    "circuit.cx(qx[1],qa[1])\n",
    "circuit.cx(qx[2],qa[1])\n",
    "\n",
    "circuit.draw(output='mpl',plot_barriers=0)"
   ]
  },
  {
   "cell_type": "code",
   "execution_count": null,
   "metadata": {},
   "outputs": [],
   "source": [
    "circuit.barrier()\n",
    "# 오류 정정\n",
    "circuit.cx(qa[0],qx[0])\n",
    "circuit.ccx(qa[0],qa[1],qx[0])\n",
    "circuit.ccx(qa[0],qa[1],qx[1])\n",
    "circuit.ccx(qa[0],qa[1],qx[2])\n",
    "circuit.cx(qa[1],qx[2])\n",
    "\n",
    "\n",
    "circuit.draw(output='mpl',plot_barriers=0)"
   ]
  },
  {
   "cell_type": "code",
   "execution_count": null,
   "metadata": {},
   "outputs": [],
   "source": [
    "# 단일 큐비트 비트-뒤집기 오류 정정 코드 (2)\n",
    "from qiskit import QuantumCircuit, QuantumRegister\n",
    "qx = QuantumRegister(3,'x')\n",
    "qa = QuantumRegister(2,'a')\n",
    "circuit = QuantumCircuit(qx,qa)\n",
    "\n",
    "# 논리 상태 |1> 로 초기화\n",
    "circuit.x(qx[2])\n",
    "circuit.barrier()\n",
    "\n",
    "# 3-큐비트 코드워드 생성\n",
    "circuit.cx(qx[2],qx[0])\n",
    "circuit.cx(qx[2],qx[1])\n",
    "\n",
    "circuit.barrier()\n",
    "# x1 에 비트 뒤집기 오류 발생\n",
    "circuit.x(qx[1])\n",
    "circuit.barrier()\n",
    "\n",
    "# 오류 진단\n",
    "circuit.cx(qx[0],qa[0])\n",
    "circuit.cx(qx[1],qa[0])\n",
    "circuit.cx(qx[1],qa[1])\n",
    "circuit.cx(qx[2],qa[1])\n",
    "\n",
    "circuit.barrier()\n",
    "# 오류 정정\n",
    "circuit.ccx(qa[0],qa[1],qx[0],ctrl_state='01')\n",
    "circuit.ccx(qa[0],qa[1],qx[1],ctrl_state='11')\n",
    "circuit.ccx(qa[0],qa[1],qx[2],ctrl_state='10')\n",
    "\n",
    "circuit.draw(output='mpl')"
   ]
  },
  {
   "cell_type": "code",
   "execution_count": null,
   "metadata": {
    "colab": {
     "base_uri": "https://localhost:8080/",
     "height": 304
    },
    "executionInfo": {
     "elapsed": 1772,
     "status": "ok",
     "timestamp": 1724891310973,
     "user": {
      "displayName": "Eun-Jin Im",
      "userId": "12874128355928418134"
     },
     "user_tz": -540
    },
    "id": "ylv0XywCrPaW",
    "outputId": "4acb5666-4b2f-49df-fe27-dae94673d475"
   },
   "outputs": [],
   "source": [
    "# 단일 큐비트 비트-뒤집기 오류 정정 코드 (3)\n",
    "from qiskit import QuantumCircuit, QuantumRegister\n",
    "qx = QuantumRegister(3,'x')\n",
    "qa = QuantumRegister(2,'a')\n",
    "circuit = QuantumCircuit(qx,qa)\n",
    "\n",
    "# 논리 상태 |1> 로 초기화\n",
    "circuit.x(qx[2])\n",
    "circuit.barrier()\n",
    "\n",
    "# 3-큐비트 코드워드 생성\n",
    "circuit.cx(qx[2],qx[0])\n",
    "circuit.cx(qx[2],qx[1])\n",
    "\n",
    "circuit.barrier()\n",
    "# x1 에 비트 뒤집기 오류 추가\n",
    "circuit.x(qx[1])\n",
    "circuit.barrier()\n",
    "\n",
    "# 오류 검출\n",
    "circuit.h(qa)\n",
    "circuit.cz(qx[0],qa[0])\n",
    "#circuit.h(qa[0])\n",
    "#circuit.h(qa[0])\n",
    "circuit.cz(qx[1],qa[0])\n",
    "#circuit.h(qa[0])\n",
    "#circuit.h(qa[1])\n",
    "circuit.cz(qx[1],qa[1])\n",
    "#circuit.h(qa[1])\n",
    "#circuit.h(qa[1])\n",
    "circuit.cz(qx[2],qa[1])\n",
    "circuit.barrier()\n",
    "circuit.h(qa)\n",
    "\n",
    "circuit.barrier()\n",
    "# 오류 정정\n",
    "circuit.ccx(qa[0],qa[1],qx[0],ctrl_state='01')\n",
    "circuit.ccx(qa[0],qa[1],qx[1],ctrl_state='11')\n",
    "circuit.ccx(qa[0],qa[1],qx[2],ctrl_state='10')\n",
    "\n",
    "circuit.draw(output='mpl',plot_barriers=0)"
   ]
  },
  {
   "cell_type": "code",
   "execution_count": null,
   "metadata": {
    "colab": {
     "base_uri": "https://localhost:8080/",
     "height": 384
    },
    "executionInfo": {
     "elapsed": 1071,
     "status": "ok",
     "timestamp": 1724892077640,
     "user": {
      "displayName": "Eun-Jin Im",
      "userId": "12874128355928418134"
     },
     "user_tz": -540
    },
    "id": "BXbcfbK8TnTF",
    "outputId": "c3f747d2-f29e-4edb-837c-34e4160d3e67"
   },
   "outputs": [],
   "source": [
    "# 단일 큐비트 위상-뒤집기 오류 정정 코드\n",
    "from qiskit import QuantumCircuit, QuantumRegister\n",
    "qx = QuantumRegister(3,'x')\n",
    "qa = QuantumRegister(2,'a')\n",
    "circuit = QuantumCircuit(qx,qa)\n",
    "\n",
    "# 논리 상태 |1> 로 초기화\n",
    "circuit.x(qx[2])\n",
    "circuit.barrier()\n",
    "\n",
    "# 3-큐비트 코드워드 생성\n",
    "circuit.cx(qx[2],qx[0])\n",
    "circuit.cx(qx[2],qx[1])\n",
    "circuit.barrier()\n",
    "circuit.h(qx)\n",
    "\n",
    "circuit.draw(output='mpl',plot_barriers=False)"
   ]
  },
  {
   "cell_type": "code",
   "execution_count": null,
   "metadata": {},
   "outputs": [],
   "source": [
    "# 회로의 양자 상태를 상태 벡터로 출력\n",
    "from qiskit.quantum_info import Statevector\n",
    "sv = Statevector(circuit)\n",
    "sv.draw(output = 'latex')"
   ]
  },
  {
   "cell_type": "code",
   "execution_count": null,
   "metadata": {
    "colab": {
     "base_uri": "https://localhost:8080/",
     "height": 384
    },
    "executionInfo": {
     "elapsed": 1085,
     "status": "ok",
     "timestamp": 1724892088764,
     "user": {
      "displayName": "Eun-Jin Im",
      "userId": "12874128355928418134"
     },
     "user_tz": -540
    },
    "id": "bG8_W7MxUG7F",
    "outputId": "fe1c2428-faab-4f7d-de7d-80be0566eea5"
   },
   "outputs": [],
   "source": [
    "\n",
    "circuit.z(qx[2])\n",
    "circuit.draw(output='mpl',plot_barriers=False)"
   ]
  },
  {
   "cell_type": "code",
   "execution_count": null,
   "metadata": {},
   "outputs": [],
   "source": [
    "# 회로의 양자 상태를 상태 벡터로 출력\n",
    "from qiskit.quantum_info import Statevector\n",
    "sv1 = Statevector(circuit)\n",
    "sv1.draw(output = 'latex')"
   ]
  },
  {
   "cell_type": "code",
   "execution_count": null,
   "metadata": {},
   "outputs": [],
   "source": [
    "# 단일 큐비트 위상-뒤집기 오류 정정 코드\n",
    "from qiskit import QuantumCircuit, QuantumRegister\n",
    "qx = QuantumRegister(3,'x')\n",
    "qa = QuantumRegister(2,'a')\n",
    "circuit = QuantumCircuit(qx,qa)\n",
    "\n",
    "# 논리 상태 |1> 로 초기화\n",
    "circuit.x(qx[2])\n",
    "circuit.barrier()\n",
    "\n",
    "# 3-큐비트 코드워드 생성\n",
    "circuit.cx(qx[2],qx[0])\n",
    "circuit.cx(qx[2],qx[1])\n",
    "circuit.barrier()\n",
    "circuit.h(qx)\n",
    "circuit.barrier()\n",
    "# q2 에 위상 뒤집기 오류 추가\n",
    "circuit.z(qx[2])\n",
    "\n",
    "circuit.barrier()\n",
    "circuit.h(qx)\n",
    "circuit.cx(qx[0],qa[0])\n",
    "circuit.cx(qx[1],qa[0])\n",
    "circuit.cx(qx[1],qa[1])\n",
    "circuit.cx(qx[2],qa[1])\n",
    "circuit.barrier()\n",
    "circuit.h(qx)\n",
    "\n",
    "circuit.draw('mpl',plot_barriers=False)"
   ]
  },
  {
   "cell_type": "code",
   "execution_count": null,
   "metadata": {},
   "outputs": [],
   "source": [
    "# 단일 큐비트 위상-뒤집기 오류 정정 코드 (2)\n",
    "from qiskit import QuantumCircuit, QuantumRegister\n",
    "qx = QuantumRegister(3,'x')\n",
    "qa = QuantumRegister(2,'a')\n",
    "circuit = QuantumCircuit(qx,qa)\n",
    "\n",
    "# 논리 상태 |1> 로 초기화\n",
    "circuit.x(qx[2])\n",
    "circuit.barrier()\n",
    "\n",
    "# 3-큐비트 코드워드 생성\n",
    "circuit.cx(qx[2],qx[0])\n",
    "circuit.cx(qx[2],qx[1])\n",
    "circuit.barrier()\n",
    "circuit.h(qx)\n",
    "\n",
    "# q2 에 위상 뒤집기 오류 추가\n",
    "circuit.z(qx[2])\n",
    "\n",
    "circuit.barrier()\n",
    "circuit.h(qa)\n",
    "circuit.cx(qa[0],qx[0])\n",
    "circuit.cx(qa[0],qx[1])\n",
    "circuit.cx(qa[1],qx[1])\n",
    "circuit.cx(qa[1],qx[2])\n",
    "circuit.barrier()\n",
    "circuit.h(qa)\n",
    "\n",
    "circuit.draw('mpl',plot_barriers=False) "
   ]
  },
  {
   "cell_type": "code",
   "execution_count": null,
   "metadata": {
    "colab": {
     "base_uri": "https://localhost:8080/",
     "height": 40
    },
    "executionInfo": {
     "elapsed": 543,
     "status": "ok",
     "timestamp": 1724818029921,
     "user": {
      "displayName": "Eun-Jin Im",
      "userId": "12874128355928418134"
     },
     "user_tz": -540
    },
    "id": "qEEwKcyOv5PZ",
    "outputId": "f3d5b180-9356-4d0e-efb6-c80d0ece1954"
   },
   "outputs": [],
   "source": [
    "# 회로의 양자 상태를 상태 벡터로 출력\n",
    "from qiskit.quantum_info import Statevector\n",
    "sv = Statevector(circuit)\n",
    "sv.draw(output = 'latex')\n"
   ]
  },
  {
   "cell_type": "code",
   "execution_count": null,
   "metadata": {
    "colab": {
     "base_uri": "https://localhost:8080/",
     "height": 346
    },
    "executionInfo": {
     "elapsed": 3752,
     "status": "ok",
     "timestamp": 1724892143080,
     "user": {
      "displayName": "Eun-Jin Im",
      "userId": "12874128355928418134"
     },
     "user_tz": -540
    },
    "id": "GWP1-MY9WHlr",
    "outputId": "cb504407-05ea-4db5-9ec5-6ced73605682"
   },
   "outputs": [],
   "source": [
    "circuit.barrier()\n",
    "# 위상 뒤집기 오류 정정\n",
    "circuit.ccz(qa[0],qa[1],qx[0],ctrl_state='01')\n",
    "circuit.ccz(qa[0],qa[1],qx[1],ctrl_state='11')\n",
    "circuit.ccz(qa[0],qa[1],qx[2],ctrl_state='10')\n",
    "\n",
    "circuit.draw(output='mpl',plot_barriers=False)"
   ]
  },
  {
   "cell_type": "code",
   "execution_count": null,
   "metadata": {
    "colab": {
     "base_uri": "https://localhost:8080/",
     "height": 40
    },
    "executionInfo": {
     "elapsed": 530,
     "status": "ok",
     "timestamp": 1724819385350,
     "user": {
      "displayName": "Eun-Jin Im",
      "userId": "12874128355928418134"
     },
     "user_tz": -540
    },
    "id": "mThLQsTPyEy-",
    "outputId": "528e518f-5147-4c8e-bbe0-60ebb6b9a622"
   },
   "outputs": [],
   "source": [
    "# 회로의 양자 상태를 상태 벡터로 출력\n",
    "from qiskit.quantum_info import Statevector\n",
    "sv4 = Statevector(circuit)\n",
    "sv4.draw(output = 'latex')"
   ]
  },
  {
   "cell_type": "code",
   "execution_count": null,
   "metadata": {},
   "outputs": [],
   "source": [
    "import numpy as np\n",
    "# 안정자 코드의 k 개의 logical Xop 행렬을 반환\n",
    "def x_operator(n,k,r,checkZ):\n",
    "    x_ops = np.zeros(shape=[k,2*n], dtype=int)\n",
    "    for row in range(k):  # E(t)\n",
    "        for col in range(n-k-r):\n",
    "            if checkZ[r+col][n-k+row] == '1':\n",
    "                x_ops[row][r+col] = 1\n",
    "    for row in range(k) : # I\n",
    "        x_ops[row][n-k+row] = 1\n",
    "    for row in range(k):  # C(t)\n",
    "        for col in range(r):\n",
    "            if checkZ[col][n-k+row] == '1':\n",
    "                x_ops[row][n+col] = 1\n",
    "    return x_ops \n",
    "\n",
    "# standard form of check matrix \n",
    "checkX = ['1001011', '0101101', '0011110', '0000000', '0000000', '0000000']\n",
    "checkZ = ['0000000', '0000000', '0000000', '1111000', '1010101', '0110011']\n",
    "x_ops = x_operator(7,1,3,checkZ)\n",
    "print(x_ops)"
   ]
  },
  {
   "cell_type": "code",
   "execution_count": null,
   "metadata": {},
   "outputs": [],
   "source": [
    "# 인코딩 회로를 생성하여 반환\n",
    "def encoding_circuit(n,k,r,checkX,checkZ):\n",
    "    x_op = x_operator(n,k,r,checkZ)[0]\n",
    "    print(\"X= \", x_op)\n",
    "    qx = QuantumRegister(n)\n",
    "    circuit = QuantumCircuit(qx)\n",
    "    # x[n-k] 가 |1> 일 경우, 논리적 X 연산 수행\n",
    "    for i in range(r,n-k):  \n",
    "        if x_op[i] == 1:\n",
    "            circuit.cx(qx[n-k],qx[i])  \n",
    "    for i in range(r):\n",
    "        if x_op[n+i] == 1:\n",
    "            circuit.cz(qx[n-k],qx[i])\n",
    "    circuit.barrier()\n",
    "\n",
    "    for i in range(r):\n",
    "        circuit.h(qx[i])\n",
    "        for j in range(n):\n",
    "            if i == j :\n",
    "                continue\n",
    "            if checkX[i][j] == '1':\n",
    "                circuit.cx(qx[i],qx[j])\n",
    "            if checkZ[i][j] == '1':\n",
    "                circuit.cz(qx[i],qx[j])\n",
    "        circuit.barrier()\n",
    "    circuit.name = 'encoder'\n",
    "    return circuit\n"
   ]
  },
  {
   "cell_type": "code",
   "execution_count": null,
   "metadata": {
    "colab": {
     "base_uri": "https://localhost:8080/",
     "height": 513
    },
    "executionInfo": {
     "elapsed": 2425,
     "status": "ok",
     "timestamp": 1725002527561,
     "user": {
      "displayName": "Eun-Jin Im",
      "userId": "12874128355928418134"
     },
     "user_tz": -540
    },
    "id": "1lNJdxFVaY9Y",
    "outputId": "5545ca5b-f58b-42c8-c461-c7c64ef76d15"
   },
   "outputs": [],
   "source": [
    "# Steane's 7 큐비트 코드 코드워드 생성\n",
    "from qiskit import QuantumCircuit, QuantumRegister\n",
    "\n",
    "n = 7\n",
    "k = 1\n",
    "r = 3\n",
    "qx = QuantumRegister(n,'x')\n",
    "circuit = QuantumCircuit(qx)\n",
    "\n",
    "# standard form of check matrix \n",
    "checkX = ['1001011', '0101101', '0011110', '0000000', '0000000', '0000000']\n",
    "checkZ = ['0000000', '0000000', '0000000', '1111000', '1010101', '0110011']\n",
    "\n",
    "# |1> 의 코드워드 생성\n",
    "circuit.x(qx[n-k]) # encoding |1>\n",
    "circuit.barrier()\n",
    "\n",
    "encoder = encoding_circuit(n,k,r,checkX,checkZ)\n",
    "circuit.compose(encoder, qx, inplace=True)\n",
    "\n",
    "circuit.draw(output='mpl', fold=-1,plot_barriers=False)\n"
   ]
  },
  {
   "cell_type": "code",
   "execution_count": null,
   "metadata": {},
   "outputs": [],
   "source": [
    "# 회로의 양자 상태를 상태 벡터로 출력\n",
    "from qiskit.quantum_info import Statevector\n",
    "sv = Statevector(circuit)\n",
    "sv.draw(output = 'latex')"
   ]
  },
  {
   "cell_type": "code",
   "execution_count": null,
   "metadata": {},
   "outputs": [],
   "source": [
    "circuit.barrier()\n",
    "\n",
    "# 오류 추가\n",
    "circuit.z(qx[4])\n",
    "circuit.x(qx[4])\n",
    "\n",
    "circuit.draw(output='mpl', fold=-1, plot_barriers=False)"
   ]
  },
  {
   "cell_type": "code",
   "execution_count": null,
   "metadata": {},
   "outputs": [],
   "source": [
    "# 회로의 양자 상태를 상태 벡터로 출력\n",
    "from qiskit.quantum_info import Statevector\n",
    "sv = Statevector(circuit)\n",
    "sv.draw(output = 'latex')"
   ]
  },
  {
   "cell_type": "code",
   "execution_count": null,
   "metadata": {},
   "outputs": [],
   "source": [
    "# 오류 검출 회로를 생성하여 반환\n",
    "def error_detection_circuit(n,k,genX,genZ):\n",
    "    qx = QuantumRegister(n)\n",
    "    qa = QuantumRegister(n-k)\n",
    "    circuit = QuantumCircuit(qx,qa)\n",
    "    circuit.h(qa)\n",
    "    for i in range(n-k):\n",
    "        for j in range(n):\n",
    "            if genX[i][j] == '1':\n",
    "                circuit.cx(qa[i],qx[j])\n",
    "            if genZ[i][j] == '1':\n",
    "                circuit.cz(qa[i],qx[j])\n",
    "            circuit.barrier()\n",
    "    circuit.h(qa)\n",
    "    circuit.name = 'detection'\n",
    "    return circuit"
   ]
  },
  {
   "cell_type": "code",
   "execution_count": null,
   "metadata": {},
   "outputs": [],
   "source": [
    "# Steane's 7 큐비트 오류 검출\n",
    "from qiskit import QuantumCircuit, QuantumRegister, ClassicalRegister\n",
    "n = 7\n",
    "k = 1\n",
    "r = 3\n",
    "qx = QuantumRegister(n,'x')\n",
    "qa = QuantumRegister(n-k,'a')\n",
    "cr = ClassicalRegister(n-k,'s')\n",
    "circuit = QuantumCircuit(qx,qa,cr)\n",
    "\n",
    "# generators \n",
    "genX = ['1111000', '1100110', '1010101', '0000000', '0000000', '0000000']\n",
    "genZ = ['0000000', '0000000', '0000000', '1111000', '1100110', '1010101']\n",
    "# standard form of check matrix \n",
    "checkX = ['1001011', '0101101', '0011110', '0000000', '0000000', '0000000']\n",
    "checkZ = ['0000000', '0000000', '0000000', '1111000', '1010101', '0110011']\n",
    "\n",
    "# |1> 의 코드워드 생성\n",
    "circuit.x(qx[n-k]) # encoding |1>\n",
    "\n",
    "# 코드워드 생성\n",
    "encoder = encoding_circuit(n,k,r,checkX,checkZ)\n",
    "circuit.append(encoder,qx)\n",
    "\n",
    "# 오류 추가\n",
    "circuit.z(qx[4])\n",
    "circuit.x(qx[4])\n",
    "circuit.barrier()\n",
    "\n",
    "# 오류 진단\n",
    "detector = error_detection_circuit(n,k,genX,genZ)\n",
    "circuit.compose(detector,qx[:]+qa[:],inplace=True)\n",
    "\n",
    "circuit.measure(qa,cr)\n",
    "circuit.draw(output='mpl',fold=-1,plot_barriers=False)"
   ]
  },
  {
   "cell_type": "code",
   "execution_count": null,
   "metadata": {},
   "outputs": [],
   "source": [
    "# AerSimulator 를 이용하여 circuit 회로를 측정한 결과를 출력\n",
    "from qiskit.transpiler.preset_passmanagers import generate_preset_pass_manager\n",
    "from qiskit_ibm_runtime import SamplerV2 as Sampler\n",
    "from qiskit_aer import AerSimulator\n",
    "\n",
    "aer_sim = AerSimulator()\n",
    "pm = generate_preset_pass_manager(backend=aer_sim, optimization_level=1)\n",
    "\n",
    "isa_circuit = pm.run(circuit)\n",
    "sampler = Sampler(mode=aer_sim)\n",
    "job = sampler.run([isa_circuit], shots=1000)\n",
    "result = job.result()\n",
    "count = result[0].data.s.get_counts()\n",
    "print (count)\n"
   ]
  },
  {
   "cell_type": "code",
   "execution_count": null,
   "metadata": {},
   "outputs": [],
   "source": [
    "# Steane's 7 큐비트 코드\n",
    "from qiskit import QuantumCircuit, QuantumRegister, ClassicalRegister\n",
    "n = 7\n",
    "k = 1\n",
    "r = 3\n",
    "qx = QuantumRegister(n,'x')\n",
    "qa = QuantumRegister(n-k,'a')\n",
    "cr = ClassicalRegister(n-k,'s')\n",
    "circuit = QuantumCircuit(qx,qa,cr)\n",
    "\n",
    "# generators \n",
    "genX = ['1111000', '1100110', '1010101', '0000000', '0000000', '0000000']\n",
    "genZ = ['0000000', '0000000', '0000000', '1111000', '1100110', '1010101']\n",
    "# standard form of check matrix \n",
    "checkX = ['1001011', '0101101', '0011110', '0000000', '0000000', '0000000']\n",
    "checkZ = ['0000000', '0000000', '0000000', '1111000', '1010101', '0110011'] \n",
    "\n",
    "# |1> 의 코드워드 생성\n",
    "circuit.x(qx[n-k]) # encoding |1>\n",
    "encoder = encoding_circuit(n,k,r,checkX,checkZ)\n",
    "circuit.append(encoder,qx)\n",
    "\n",
    "# 오류 추가\n",
    "circuit.z(qx[4])\n",
    "circuit.x(qx[4])\n",
    "circuit.barrier()\n",
    "\n",
    "# 오류 진단\n",
    "detector = error_detection_circuit(n,k,genX,genZ)\n",
    "circuit.append(detector,qx[:]+qa[:])\n",
    "\n",
    "# 오류 정정\n",
    "syndromeX = ['111', '011', '101', '001', '110', '010', '100']\n",
    "syndromeZ = syndromeX\n",
    "\n",
    "for i in range(n):\n",
    "    circuit.mcx(qa[3:6],qx[i],ctrl_state=syndromeX[i])\n",
    "    circuit.barrier()\n",
    "for i in range(n):    \n",
    "    circuit.h(qx[i])\n",
    "    circuit.mcx(qa[:3],qx[i],ctrl_state=syndromeZ[i])\n",
    "    circuit.h(qx[i])\n",
    "\n",
    "circuit.draw(output='mpl', fold=-1,plot_barriers=False)"
   ]
  },
  {
   "cell_type": "code",
   "execution_count": null,
   "metadata": {},
   "outputs": [],
   "source": [
    "# 회로의 양자 상태를 상태 벡터로 출력\n",
    "from qiskit.quantum_info import Statevector\n",
    "sv = Statevector(circuit)\n",
    "sv.draw(output = 'latex')"
   ]
  }
 ],
 "metadata": {
  "colab": {
   "authorship_tag": "ABX9TyO0zvkMHvp2XyAomF8kpIDR",
   "provenance": []
  },
  "kernelspec": {
   "display_name": ".venv",
   "language": "python",
   "name": "python3"
  },
  "language_info": {
   "codemirror_mode": {
    "name": "ipython",
    "version": 3
   },
   "file_extension": ".py",
   "mimetype": "text/x-python",
   "name": "python",
   "nbconvert_exporter": "python",
   "pygments_lexer": "ipython3",
   "version": "3.10.4"
  }
 },
 "nbformat": 4,
 "nbformat_minor": 0
}
