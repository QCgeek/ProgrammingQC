{
 "cells": [
  {
   "cell_type": "code",
   "execution_count": null,
   "id": "RvxgirBrNzYd",
   "metadata": {
    "colab": {
     "base_uri": "https://localhost:8080/"
    },
    "executionInfo": {
     "elapsed": 27133,
     "status": "ok",
     "timestamp": 1727093248658,
     "user": {
      "displayName": "Eun-Jin Im",
      "userId": "12874128355928418134"
     },
     "user_tz": -540
    },
    "id": "RvxgirBrNzYd",
    "outputId": "b377d438-ffaa-4611-e513-e0747517201f"
   },
   "outputs": [],
   "source": [
    "!pip install qiskit qiskit-ibm-runtime pylatexenc qiskit_aer"
   ]
  },
  {
   "cell_type": "code",
   "execution_count": null,
   "id": "744458ef-4014-4359-b5b7-01fcad3a09e2",
   "metadata": {
    "executionInfo": {
     "elapsed": 3849,
     "status": "ok",
     "timestamp": 1727093277836,
     "user": {
      "displayName": "Eun-Jin Im",
      "userId": "12874128355928418134"
     },
     "user_tz": -540
    },
    "id": "744458ef-4014-4359-b5b7-01fcad3a09e2"
   },
   "outputs": [],
   "source": [
    "from numpy import pi\n",
    "import numpy as np\n",
    "from qiskit import QuantumCircuit, QuantumRegister, ClassicalRegister, transpile\n",
    "from qiskit_aer import AerSimulator\n",
    "from qiskit.visualization import plot_histogram"
   ]
  },
  {
   "cell_type": "code",
   "execution_count": null,
   "id": "eed5f2fd",
   "metadata": {
    "colab": {
     "base_uri": "https://localhost:8080/",
     "height": 320
    },
    "executionInfo": {
     "elapsed": 321,
     "status": "ok",
     "timestamp": 1727093855620,
     "user": {
      "displayName": "Eun-Jin Im",
      "userId": "12874128355928418134"
     },
     "user_tz": -540
    },
    "id": "eed5f2fd",
    "outputId": "be4aec63-8d09-4d6b-cf78-f02b919bc482"
   },
   "outputs": [],
   "source": [
    "from qiskit import QuantumCircuit, QuantumRegister, ClassicalRegister\n",
    "# 3-qubit f(100)=1 의 그로버 오라클 회로를 구현하는 함수\n",
    "def grover_oracle_circuit():\n",
    "    n = 3\n",
    "    qy = QuantumRegister(1, 'y')\n",
    "    qx = QuantumRegister(n, 'x')\n",
    "    qc = QuantumCircuit(qy, qx) # qc 라는 이름의 n+1큐비트 양자 회로 객체를 생성\n",
    "    # implement |x,y> ->|x, y XOR f(X)>\n",
    "    # where f(100) = 1, f(x) = 0 otherwise\n",
    "    qc.x([qx[1],qx[0]])      # qx[1], qx[0] 큐비트의 상태를 반전\n",
    "    qc.mcx(list(qx),qy)      # 제어 큐비트 qx[0,1,2], 타겟 큐비트 qy 인 MCX gate\n",
    "    # Uf|x,y>=|x,y XOR f(x)가 되도록 qx 를 uncomputation\n",
    "    qc.x([qx[1],qx[0]])      # qx[1], qx[0] 큐비트의 상태를 반전하여 원상태로 복귀\n",
    "    qc.name = 'Oracle'\n",
    "    return qc                # qc 객체를 반환\n",
    "\n",
    "circuit = grover_oracle_circuit() # 함수를 호출하여 회로를 표현하는 객체를 생성\n",
    "circuit.draw(output='mpl') # circuit 회로를 matplot library 형식의 그림 화일로 출력"
   ]
  },
  {
   "cell_type": "code",
   "execution_count": null,
   "id": "57193a2a",
   "metadata": {
    "colab": {
     "base_uri": "https://localhost:8080/",
     "height": 255
    },
    "executionInfo": {
     "elapsed": 603,
     "status": "ok",
     "timestamp": 1727093663004,
     "user": {
      "displayName": "Eun-Jin Im",
      "userId": "12874128355928418134"
     },
     "user_tz": -540
    },
    "id": "57193a2a",
    "outputId": "5533f3a5-210d-4fac-b88d-9a2bb0fb7612"
   },
   "outputs": [],
   "source": [
    "# diffusion circuit for n qubits\n",
    "def diffuser_circuit(n):\n",
    "    x = QuantumRegister(n,'x')\n",
    "    qc = QuantumCircuit(x) # n 큐비트 회로 객체 생성\n",
    "    qc.h(x)                # 모든 큐비트에 H\n",
    "    qc.x(x)                # 모든 큐비트에 X\n",
    "\n",
    "    qc.barrier()\n",
    "    qc.h(x[0])             # x0 (target 큐비트) 에만 H\n",
    "    qc.mcx(x[1:n], x[0])   # 제어 큐비트 x[1,2,...,n-1], 타겟 큐비트 x[0] 인 다중제어 X gate\n",
    "    qc.h(x[0])             # x0 (target 큐비트) 에만 H\n",
    "    qc.barrier()           # HXH=Z 이기 때문에 이 결과는 다중제어-Z gate 와 같다.\n",
    "\n",
    "    qc.x(x)                # 모든 큐비트에 X\n",
    "    qc.h(x)                # 모든 큐비트에 H\n",
    "\n",
    "    qc.name = \"Diffuser\"\n",
    "    return qc\n",
    "\n",
    "circuit = diffuser_circuit(3) # 함수를 호출하여 회로를 표현하는 객체를 생성\n",
    "circuit.draw(output='mpl') # circuit 회로를 matplot library 형식의 그림 화일로 출력\n"
   ]
  },
  {
   "cell_type": "code",
   "execution_count": null,
   "id": "cb1b0645",
   "metadata": {
    "colab": {
     "base_uri": "https://localhost:8080/",
     "height": 404
    },
    "executionInfo": {
     "elapsed": 1266,
     "status": "ok",
     "timestamp": 1727094015427,
     "user": {
      "displayName": "Eun-Jin Im",
      "userId": "12874128355928418134"
     },
     "user_tz": -540
    },
    "id": "cb1b0645",
    "outputId": "f3701859-6c83-4b83-e6dc-e14580392162"
   },
   "outputs": [],
   "source": [
    "# 그로버 오라클 함수와 디퓨저 함수를 1번 호출하여 그로버 회로를 circuit 이라는 이름의 객체로 구현\n",
    "n = 3\n",
    "qx = QuantumRegister(n,'x')  # n 큐비트의 양자 레지스터 객체를 qx 라는 이름으로 생성, 회로에는 'x'로 표시\n",
    "qy = QuantumRegister(1,'y')  # 1 큐비트의 양자 레지스터 객체를 qy 라는 이름으로 생성, 회로에는 'y'로 표시\n",
    "c = ClassicalRegister(n,'c') # 1 비트의 고전 레지스터 객체를 c 라는 이름으로 생성, 회로에는 'c'로 표시\n",
    "circuit = QuantumCircuit(qy, qx, c) # qy,qx,c 를 가지는 양자 회로를 circuit 이라는 이름의 객체로 생성\n",
    "circuit.x(qy)                 # qy 큐비트에 X gate -> qy 큐비트 상태가 |1> 이 됨\n",
    "circuit.h(qy)                 # qy 큐비트에 H gate -> qy 큐비트 상태가 |-> 이 됨\n",
    "circuit.h(qx)                 # qx 의 모든 큐비트에 H gate 적용\n",
    "circuit.barrier()\n",
    "for _ in range (1):           # 1번 반복\n",
    "# grover_oracle_circuit() 을 호출하여 오라클 회로를 circuit 에 추가\n",
    "    circuit.compose(grover_oracle_circuit(), range(n+1), inplace=True)\n",
    "    circuit.barrier()\n",
    "# diffuser_circuit() 을 호출하여 디퓨저 회로를 circuit 에 추가\n",
    "    circuit.compose(diffuser_circuit(n), range(1,n+1), inplace=True)\n",
    "    circuit.barrier()\n",
    "\n",
    "circuit.measure(qx,c)              # qx 레지스터의 모든 큐비트들을 측정하여 c 레지스터로 읽는 회로를 구현\n",
    "circuit.draw(fold=-1,output='mpl') # circuit 회로를 matplot library 형식의 그림 화일로 출력"
   ]
  },
  {
   "cell_type": "code",
   "execution_count": null,
   "id": "2936de5b",
   "metadata": {},
   "outputs": [],
   "source": [
    "# 그로버 오라클 함수와 디퓨저 함수를 2번 호출하여 그로버 회로를 circuit 이라는 이름의 객체로 구현\n",
    "n = 3\n",
    "qx = QuantumRegister(n,'x')  # n 큐비트의 양자 레지스터 객체를 qx 라는 이름으로 생성, 회로에는 'x'로 표시\n",
    "qy = QuantumRegister(1,'y')  # 1 큐비트의 양자 레지스터 객체를 qy 라는 이름으로 생성, 회로에는 'y'로 표시\n",
    "c = ClassicalRegister(n,'c') # 1 비트의 고전 레지스터 객체를 c 라는 이름으로 생성, 회로에는 'c'로 표시\n",
    "circuit = QuantumCircuit(qy, qx, c) # qy,qx,c 를 가지는 양자 회로를 circuit 이라는 이름의 객체로 생성\n",
    "circuit.x(0)                 # 0번 큐비트에 X gate -> 0번 큐비트 상태가 |1> 이 됨\n",
    "circuit.h(0)                 # 0번 큐비트에 H gate -> 0번 큐비트 상태가 |-> 이 됨\n",
    "circuit.h(qx)                # qx 의 모든 큐비트에 H gate 적용\n",
    "\n",
    "for _ in range (2):         # 2번 반복\n",
    "# grover_oracle_circuit() 을 호출하여 오라클 회로를 circuit 에 추가\n",
    "    circuit.append(grover_oracle_circuit(), range(n+1))\n",
    "# diffuser_circuit() 을 호출하여 디퓨저 회로를 circuit 에 추가\n",
    "    circuit.append(diffuser_circuit(n), range(1,n+1))\n",
    "\n",
    "circuit.measure(qx,c)      # qx 레지스터의 모든 큐비트들을 측정하여 c 레지스터로 읽는 회로를 구현\n",
    "circuit.draw(fold=-1,output='mpl') # circuit 회로를 matplot library 형식의 그림 화일로 출력"
   ]
  },
  {
   "cell_type": "code",
   "execution_count": null,
   "id": "847c7f9e",
   "metadata": {
    "colab": {
     "base_uri": "https://localhost:8080/",
     "height": 461
    },
    "executionInfo": {
     "elapsed": 679,
     "status": "ok",
     "timestamp": 1727094220902,
     "user": {
      "displayName": "Eun-Jin Im",
      "userId": "12874128355928418134"
     },
     "user_tz": -540
    },
    "id": "847c7f9e",
    "outputId": "8c85f42c-450c-4e89-fac5-197d70b40fed"
   },
   "outputs": [],
   "source": [
    "# AerSimulator 를 이용하여 circuit 회로를 측정한 결과를 출력\n",
    "from qiskit.transpiler.preset_passmanagers import generate_preset_pass_manager\n",
    "from qiskit_ibm_runtime import SamplerV2 as Sampler\n",
    "from qiskit_aer import AerSimulator\n",
    "\n",
    "aer_sim = AerSimulator()\n",
    "pm = generate_preset_pass_manager(backend=aer_sim, optimization_level=1)\n",
    "\n",
    "isa_circuit = pm.run(circuit)\n",
    "sampler = Sampler(mode=aer_sim)\n",
    "job = sampler.run([isa_circuit], shots=10000)\n",
    "result = job.result()\n",
    "count = result[0].data.c.get_counts()\n",
    "\n",
    "from qiskit.visualization import plot_distribution\n",
    "plot_distribution(count)"
   ]
  }
 ],
 "metadata": {
  "colab": {
   "provenance": []
  },
  "kernelspec": {
   "display_name": ".venv",
   "language": "python",
   "name": "python3"
  },
  "language_info": {
   "codemirror_mode": {
    "name": "ipython",
    "version": 3
   },
   "file_extension": ".py",
   "mimetype": "text/x-python",
   "name": "python",
   "nbconvert_exporter": "python",
   "pygments_lexer": "ipython3",
   "version": "3.10.4"
  }
 },
 "nbformat": 4,
 "nbformat_minor": 5
}
