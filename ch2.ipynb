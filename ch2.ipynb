{
 "cells": [
  {
   "cell_type": "code",
   "execution_count": null,
   "metadata": {
    "colab": {
     "base_uri": "https://localhost:8080/"
    },
    "executionInfo": {
     "elapsed": 23429,
     "status": "ok",
     "timestamp": 1727952253778,
     "user": {
      "displayName": "Eun-Jin Im",
      "userId": "12874128355928418134"
     },
     "user_tz": -540
    },
    "id": "ZFiPOOLeDl3z",
    "outputId": "436c4194-bce8-43a3-97ce-4bfc1a8e5871"
   },
   "outputs": [],
   "source": [
    "!pip install qiskit qiskit-ibm-runtime  qiskit_aer pylatexenc"
   ]
  },
  {
   "cell_type": "code",
   "execution_count": null,
   "metadata": {},
   "outputs": [],
   "source": [
    "import qiskit\n",
    "import numpy as np\n",
    "qiskit.version.get_version_info()"
   ]
  },
  {
   "cell_type": "code",
   "execution_count": null,
   "metadata": {
    "id": "xINOTg7PE1bh"
   },
   "outputs": [],
   "source": [
    "from qiskit import QuantumCircuit\n",
    "c1 =  QuantumCircuit(2) # QuantumCircuit 클래스의 객체를 생성하여 c1 에 치환"
   ]
  },
  {
   "cell_type": "code",
   "execution_count": null,
   "metadata": {
    "id": "KPUrrcnocfGV"
   },
   "outputs": [],
   "source": [
    "import qiskit\n",
    "c1 =  qiskit.QuantumCircuit(2)"
   ]
  },
  {
   "cell_type": "code",
   "execution_count": null,
   "metadata": {
    "id": "V7L3vB_sU_Bg"
   },
   "outputs": [],
   "source": [
    "import qiskit\n",
    "sum = 3\n",
    "print('type of sum object is ', type(sum))\n",
    "c1 = qiskit.QuantumCircuit(2)\n",
    "print('type of c1 object is ', type(c1))"
   ]
  },
  {
   "cell_type": "code",
   "execution_count": null,
   "metadata": {
    "id": "I8wD_NJqe8e4"
   },
   "outputs": [],
   "source": [
    "from qiskit import QuantumCircuit\n",
    "c1 =  QuantumCircuit(2)\n",
    "print('object c1 has the following qubits :\\n', c1.qubits)\n",
    "print('object c1 has the following name :\\n', c1.name)"
   ]
  },
  {
   "cell_type": "code",
   "execution_count": null,
   "metadata": {
    "id": "TopwHfJdg6bO"
   },
   "outputs": [],
   "source": [
    "from qiskit import QuantumCircuit\n",
    "c1 =  QuantumCircuit(2)\n",
    "c1.x(0)"
   ]
  },
  {
   "cell_type": "code",
   "execution_count": null,
   "metadata": {
    "id": "ILLPoyq-NsBH"
   },
   "outputs": [],
   "source": [
    "from qiskit import QuantumCircuit\n",
    "c1 =  QuantumCircuit(2)\n",
    "c1.x(0)\n",
    "\n",
    "print('The first qubit is ', c1.qubits[0])\n",
    "print('The second qubit is ', c1.qubits[1])"
   ]
  },
  {
   "cell_type": "code",
   "execution_count": null,
   "metadata": {
    "id": "UDC9q0ZJpCSi"
   },
   "outputs": [],
   "source": [
    "def concatenate_str(a,b,c):\n",
    "  # 문자열 a,b,c 를 연결한 문자열을 반환하는 함수\n",
    "  result = a+b+c\n",
    "  print (a,b,c,result)\n",
    "  return result"
   ]
  },
  {
   "cell_type": "code",
   "execution_count": null,
   "metadata": {},
   "outputs": [],
   "source": [
    "# 함수 외부에서 지역 변수 접근 불가\n",
    "def concatenate_str(a,b,c):\n",
    "  result = a+b+c                       # 지역 변수 result\n",
    "  print ('a :', a, 'b :', b, 'c :', c, 'result :', result)\n",
    "  return result\n",
    "\n",
    "answer = concatenate_str('12345','abc','??')\n",
    "print('result = ', result)"
   ]
  },
  {
   "cell_type": "code",
   "execution_count": null,
   "metadata": {},
   "outputs": [],
   "source": [
    "# 함수의 호출과 지역/전역 변수\n",
    "def concatenate_str(a,b,c):\n",
    "  result = a+b+c                       # 지역 변수 result\n",
    "  print ('a :', a, 'b :', b, 'c :', c, 'result :', result)\n",
    "  return result\n",
    "\n",
    "result = 'result is a global variable' # 전역 변수 result\n",
    "answer = concatenate_str('12345','abc','??')\n",
    "print('result = ', result)"
   ]
  },
  {
   "cell_type": "code",
   "execution_count": null,
   "metadata": {},
   "outputs": [],
   "source": [
    "# 함수 내에서 전역 변수 값을 변경하는 법\n",
    "def concatenate_str(a,b,c):\n",
    "  global g\n",
    "  g = 1\n",
    "  result = a+b+c                       # 지역 변수 result\n",
    "  print ('a :', a, 'b :', b, 'c :', c, 'result :', result)\n",
    "  return result\n",
    "\n",
    "g = 0\n",
    "result = 'result is a global variable' # 전역 변수 result\n",
    "answer = concatenate_str('12345','abc','??')\n",
    "print('result = ', g, result)"
   ]
  },
  {
   "cell_type": "code",
   "execution_count": null,
   "metadata": {
    "id": "0m8B6dTMq00c"
   },
   "outputs": [],
   "source": [
    "def concatenate_str1(a,b='00',c='*'):\n",
    "  # 디폴트 매개변수\n",
    "  result = a+b+c\n",
    "  print (a,b,c,result)\n",
    "  return result\n",
    "\n",
    "answer = concatenate_str1('12345','abc')\n",
    "print(answer)"
   ]
  },
  {
   "cell_type": "code",
   "execution_count": null,
   "metadata": {
    "id": "Rj9pCqtfsJQv"
   },
   "outputs": [],
   "source": [
    "def concatenate_str(a,b,c):\n",
    "  result = a+b+c\n",
    "  print (a,b,c,result)\n",
    "  return result\n",
    "\n",
    "# 키워드 매개변수 사용\n",
    "answer = concatenate_str('12345',c='abc',b='??')"
   ]
  },
  {
   "cell_type": "code",
   "execution_count": null,
   "metadata": {},
   "outputs": [],
   "source": [
    "# list class\n",
    "list1 = [0, 10, 20, 30]\n",
    "print(\"list1=\", list1)\n",
    "print(\"type of list1 : \",type(list1))\n",
    "list2 = [0,'a',[3,'x']] # 다양한 객체로 구성된 list\n",
    "print(\"list2=\", list2)\n",
    "list3 = list1 + list2   # list 의 + 연산\n",
    "print(\"list3=\", list3)\n",
    "print(\"list1[0]=\", list1[0])\n",
    "print(\"list1[1]=\", list1[1])\n",
    "print(\"list1[2]=\", list1[2])\n",
    "print(\"list1[3]=\", list1[3])\n",
    "print(f'index of 20 in list1 is ', list1.index(20)) # list.index()\n",
    "print(\"len(list3)=\", len(list3)) # list3 의 길이 len() 함수"
   ]
  },
  {
   "cell_type": "code",
   "execution_count": null,
   "metadata": {},
   "outputs": [],
   "source": [
    "# range class\n",
    "b_range = range (0,40,10)\n",
    "print(\"b_range=\", b_range)\n",
    "print(\"type of b_range : \",type(b_range))\n",
    "print(\"b_range[0]=\", b_range[0])\n",
    "print(\"b_range[1]=\", b_range[1])\n",
    "print(\"b_range[2]=\", b_range[2])\n",
    "print(\"b_range[3]=\", b_range[3])\n",
    "print(\"index of 20 in b_range is \",b_range.index(20))\n",
    "print(f'len(b_range)={len(b_range)}')\n",
    "\n",
    "print('list(b_range)= ',list(b_range))"
   ]
  },
  {
   "cell_type": "code",
   "execution_count": null,
   "metadata": {},
   "outputs": [],
   "source": [
    "for e in ['xy',1,2.0,[5,4]]:\n",
    "  print(e)"
   ]
  },
  {
   "cell_type": "code",
   "execution_count": null,
   "metadata": {},
   "outputs": [],
   "source": [
    "for b in range(10,30,5):\n",
    "  print(b)"
   ]
  },
  {
   "cell_type": "code",
   "execution_count": null,
   "metadata": {},
   "outputs": [],
   "source": [
    "for c in 'abc':\n",
    "  print(c)"
   ]
  },
  {
   "cell_type": "code",
   "execution_count": null,
   "metadata": {},
   "outputs": [],
   "source": [
    "list1 = [1,2,3]\n",
    "list2 = list1\n",
    "list2 += [4]\n",
    "print (f'list1={list1} list2={list2}')"
   ]
  },
  {
   "cell_type": "code",
   "execution_count": null,
   "metadata": {},
   "outputs": [],
   "source": [
    "str1 = 'quantum'\n",
    "str2 = str1\n",
    "str2 = 'computing'\n",
    "print(f'str1={str1} str2={str2}')"
   ]
  },
  {
   "cell_type": "code",
   "execution_count": null,
   "metadata": {},
   "outputs": [],
   "source": [
    "list1 = [1,2,3]\n",
    "list2 = list1.copy()\n",
    "list2 += [4]\n",
    "print (f'list1={list1} list2={list2}')"
   ]
  },
  {
   "cell_type": "code",
   "execution_count": null,
   "metadata": {},
   "outputs": [],
   "source": [
    "# dict class is a set of key:value pairs\n",
    "spanish = {'cero':'zero', 'uno':'one'}\n",
    "\n",
    "for key in spanish.keys():\n",
    "  print(key, spanish[key])\n",
    "\n",
    "print (spanish.keys())\n",
    "print (list(spanish.keys()))\n",
    "print (spanish.values())\n",
    "print (list(spanish.values()))"
   ]
  },
  {
   "cell_type": "code",
   "execution_count": null,
   "metadata": {},
   "outputs": [],
   "source": [
    "# dict class is a set of key:value pairs\n",
    "spanish = {'cero':'zero', 'uno':'one'}\n",
    "\n",
    "if 'one' in spanish:\n",
    "  print('\\'one\\' is in spanish')\n",
    "  print(\"spanish['one'] means \", spanish['one'])\n",
    "elif 'cero' in spanish:\n",
    "  print(\"'cero' is in spanish\")\n",
    "  print(\"spanish['cero'] means \", spanish['cero'])\n",
    "else:\n",
    "  print(\"'one' is not in spanish\")\n",
    "  print(\"'cero' is not in spanish\")"
   ]
  },
  {
   "cell_type": "code",
   "execution_count": null,
   "metadata": {},
   "outputs": [],
   "source": [
    "a = 12.346\n",
    "\n",
    "print (a)\n",
    "print ('a')"
   ]
  },
  {
   "cell_type": "code",
   "execution_count": null,
   "metadata": {},
   "outputs": [],
   "source": [
    "print (f'a')\n",
    "print (f'{a}')"
   ]
  },
  {
   "cell_type": "code",
   "execution_count": null,
   "metadata": {},
   "outputs": [],
   "source": [
    "print (f\"a = {a}\")\n",
    "print (f\"a = {a:.2f}\")"
   ]
  },
  {
   "cell_type": "code",
   "execution_count": null,
   "metadata": {},
   "outputs": [],
   "source": [
    "x = 0b1100\n",
    "y = 0b1010\n",
    "print(f'x&y={x&y:08b} x|y={x|y:08b} x^y={x^y:08b}')\n",
    "print(f'~x={~x & 0b11111111:08b} x<<2={x<<2:08b} x>>3={x>>3:08b}')"
   ]
  },
  {
   "cell_type": "code",
   "execution_count": null,
   "metadata": {},
   "outputs": [],
   "source": [
    "import numpy as np\n",
    "\n",
    "print(np.pi)\n",
    "np.random.seed(809)\n",
    "print(np.random.randint(1, 10))\n",
    "print(np.random.randint(2, size=3))\n",
    "print(np.random.choice(['A', 'B', 'C'], size=[2,3] ))\n",
    "print(np.random.permutation(5))"
   ]
  },
  {
   "cell_type": "code",
   "execution_count": null,
   "metadata": {},
   "outputs": [],
   "source": [
    "a = np.array([[1, 0], [0, 1]], dtype=int) \n",
    "b = np.array([[0, 1], [1, 0]], dtype=int) \n",
    "\n",
    "print(a + b)\n",
    "print(a @ b)\n",
    "print (a.T)\n",
    "print(np.linalg.inv(a))\n",
    "print(\"determinant of a is \", np.linalg.det(a))\n",
    "eigenvalues, eigenvectors = np.linalg.eig(a)\n",
    "for i in range(2):\n",
    "    print(f\"eigenvalue={eigenvalues[i]}, eigenvector={eigenvectors[:,i]}\")\n",
    "    v1 = eigenvalues[i]*eigenvectors[:,i]\n",
    "    print('lambda x v1 = ', v1)\n",
    "    v2 = a @ eigenvectors[:,i]\n",
    "    print('matrix x v1 = ', v2)\n",
    "\n",
    "y = np.array([2, -1])\n",
    "# 방정식 풀이\n",
    "x = np.linalg.solve(a, y)\n",
    "print(\"solution:\", x)"
   ]
  },
  {
   "cell_type": "code",
   "execution_count": null,
   "metadata": {},
   "outputs": [],
   "source": [
    "from qiskit import QuantumCircuit # 1. qiskit 라이브러리의 QuantumCircuit 클래스를 사용\n",
    "# 3 qubit 양자 회로의 예\n",
    "circuit = QuantumCircuit(3,3)  # 2. 양자 회로 클래스의 객체를 생성\n",
    "\n",
    "# 앙자레지스터의 상태를 0b111 로 초기화\n",
    "circuit.x(0)     # 3. X gate to q0\n",
    "circuit.x([2,1]) # 4. 2 X gates to q2,q1\n",
    "\n",
    "# 회로에 배리어 표시\n",
    "circuit.barrier() # 5.\n",
    "\n",
    "circuit.ccx(2,1,0) # 6. CCX(control=2,1,target=0)\n",
    "\n",
    "# 측정 회로 추가\n",
    "circuit.measure([0,1,2],[0,1,2]) # 7."
   ]
  },
  {
   "cell_type": "code",
   "execution_count": null,
   "metadata": {},
   "outputs": [],
   "source": [
    "# 회로 출력\n",
    "circuit.draw(output='mpl') # 8."
   ]
  },
  {
   "cell_type": "code",
   "execution_count": null,
   "metadata": {},
   "outputs": [],
   "source": [
    "from qiskit import QuantumCircuit, QuantumRegister, ClassicalRegister # 1'.\n",
    "# 3 qubit 양자 회로의 예 (2)\n",
    "qt = QuantumRegister(1,'target')  # 1-1' 1-큐빗 양자 레지스터 객체를 생성, 회로에는 'target'으로 표시\n",
    "qc = QuantumRegister(2,'control') # 1-2' 2-큐빗 양자 레지스터 객체를 생성, 회로에는 'control'으로 표시\n",
    "cr = ClassicalRegister(3,'m')     # 1-3' 3-비트 고전 레지스터 객체를 생성, 회로에는 'm'으로 표시\n",
    "circuit = QuantumCircuit(qt,qc,cr)  # 2'. 양자 회로 클래스의 객체를 생성\n",
    "\n",
    "# 앙자레지스터의 상태를 0b111 로 초기화\n",
    "circuit.x(qt)     # 3'. X gate to qt\n",
    "circuit.x(qc)     # 4'. 2 X gates to qc\n",
    "\n",
    "# 회로에 배리어 표시\n",
    "circuit.barrier() # 5.\n",
    "\n",
    "circuit.ccx(qc[1],qc[0],qt) # 6'. CCX(control=qc[1],qc[0],target=qt)\n",
    "\n",
    "# 측정 회로 추가\n",
    "circuit.measure([0,1,2],cr) # 7'. q[0](qt)->cr[0], q[1](qc[0])->cr[1], q[2](qc[1])->cr[2]로 측정\n",
    "\n",
    "# 회로 출력\n",
    "circuit.draw(output='mpl') # 8."
   ]
  },
  {
   "cell_type": "code",
   "execution_count": null,
   "metadata": {},
   "outputs": [],
   "source": [
    "# AerSimulator 를 이용하여 circuit 회로를 1000번 만들어 측정한 결과를 출력\n",
    "\n",
    "from qiskit.transpiler.preset_passmanagers import generate_preset_pass_manager # 9\n",
    "from qiskit_ibm_runtime import SamplerV2 as Sampler                            #10\n",
    "from qiskit_aer import AerSimulator                                            #11\n",
    "\n",
    "aer_sim = AerSimulator()                                                        #12\n",
    "pm = generate_preset_pass_manager(backend=aer_sim, optimization_level=1)        #13\n",
    "isa_circuit = pm.run(circuit)                                                   #14\n",
    "sampler = Sampler(mode=aer_sim)                                                 #15\n",
    "job = sampler.run([isa_circuit], shots=1000)                                    #16\n",
    "\n",
    "result = job.result()                                                           #17\n",
    "count = result[0].data.m.get_counts()                                           #18\n",
    "print (count)                                                                   #19"
   ]
  },
  {
   "cell_type": "code",
   "execution_count": null,
   "metadata": {},
   "outputs": [],
   "source": [
    "from qiskit.visualization import plot_distribution\n",
    "plot_distribution(count)"
   ]
  },
  {
   "cell_type": "code",
   "execution_count": null,
   "metadata": {},
   "outputs": [],
   "source": [
    "# IBM Quantum computer 를 이용하여 circuit 회로를 측정한 결과를 출력\n",
    "\n",
    "from qiskit.transpiler.preset_passmanagers import generate_preset_pass_manager #9\n",
    "from qiskit_ibm_runtime import QiskitRuntimeService, SamplerV2 as Sampler     #10\n",
    "\n",
    "service = QiskitRuntimeService(channel=\"ibm_quantum\", token=\"?????\")          #11'\n",
    "backend = service.least_busy(operational=True, simulator=False)               #12'\n",
    "pm = generate_preset_pass_manager(backend=backend, optimization_level=1)      #13'\n",
    "\n",
    "isa_circuit = pm.run(circuit)                                                 #14\n",
    "sampler = Sampler(mode=backend)                                               #15'\n",
    "job = sampler.run([isa_circuit], shots=1000)                                  #16\n",
    "print(f\"Job ID is {job.job_id()}\")                                            #16-1"
   ]
  },
  {
   "cell_type": "code",
   "execution_count": null,
   "metadata": {},
   "outputs": [],
   "source": [
    "result = job.result()\n",
    "count = result[0].data.m.get_counts()\n",
    "print(count)"
   ]
  },
  {
   "cell_type": "code",
   "execution_count": null,
   "metadata": {},
   "outputs": [],
   "source": [
    "from qiskit_ibm_runtime import QiskitRuntimeService\n",
    "\n",
    "submitted_job = service.job(job.job_id())                             # 16'\n",
    "result = submitted_job.result()                                       # 17\n",
    "count = result[0].data.m.get_counts()                                 # 18\n",
    "print(count)                                                          # 19"
   ]
  },
  {
   "cell_type": "code",
   "execution_count": null,
   "metadata": {},
   "outputs": [],
   "source": [
    "from qiskit_ibm_runtime import QiskitRuntimeService\n",
    "\n",
    "submitted_job = service.job('cvk9zxqw5350008xgmx0')                   # 16\"\n",
    "result = submitted_job.result()                                       # 17\n",
    "count = result[0].data.m.get_counts()                                 # 18\n",
    "print(count)                                                          # 19"
   ]
  },
  {
   "cell_type": "code",
   "execution_count": null,
   "metadata": {},
   "outputs": [],
   "source": [
    "count_sorted = sorted(count.items(), key=lambda x:x[1], reverse=True)\n",
    "for c in count_sorted:\n",
    "    print(c) "
   ]
  },
  {
   "cell_type": "code",
   "execution_count": null,
   "metadata": {},
   "outputs": [],
   "source": [
    "# 회로의 양자 상태를 상태 벡터로 출력\n",
    "from qiskit.quantum_info import Statevector\n",
    "sv = Statevector(circuit)\n",
    "sv.draw(output = 'latex')"
   ]
  },
  {
   "cell_type": "code",
   "execution_count": null,
   "metadata": {},
   "outputs": [],
   "source": [
    "from qiskit import QuantumRegister, ClassicalRegister, QuantumCircuit\n",
    "\n",
    "qreg_q = QuantumRegister(4, 'q')\n",
    "creg_c = ClassicalRegister(4, 'c')\n",
    "circuit = QuantumCircuit(qreg_q, creg_c)\n",
    "\n",
    "circuit.x(qreg_q[0])\n",
    "circuit.x(qreg_q[1])\n",
    "circuit.barrier(qreg_q[0], qreg_q[1], qreg_q[2], qreg_q[3])\n",
    "circuit.cx(qreg_q[0], qreg_q[2])\n",
    "circuit.cx(qreg_q[1], qreg_q[2])\n",
    "circuit.ccx(qreg_q[0], qreg_q[1], qreg_q[3])\n",
    "circuit.measure(qreg_q[0], creg_c[0])\n",
    "circuit.measure(qreg_q[1], creg_c[1])\n",
    "circuit.measure(qreg_q[2], creg_c[2])\n",
    "circuit.measure(qreg_q[3], creg_c[3])\n"
   ]
  },
  {
   "cell_type": "code",
   "execution_count": null,
   "metadata": {
    "id": "IG05CdmGgAJ4"
   },
   "outputs": [],
   "source": [
    "from qiskit import QuantumRegister, ClassicalRegister, QuantumCircuit\n",
    "\n",
    "qreg_q = QuantumRegister(4, 'q')\n",
    "creg_c = ClassicalRegister(4, 'c')\n",
    "circuit = QuantumCircuit(qreg_q, creg_c)\n",
    "\n",
    "circuit.x(qreg_q[0])\n",
    "circuit.x(qreg_q[1])\n",
    "circuit.barrier() # circuit.barrier(qreg_q[0], qreg_q[1], qreg_q[2], qreg_q[3])\n",
    "circuit.cx(qreg_q[0], qreg_q[2])\n",
    "circuit.cx(qreg_q[1], qreg_q[2])\n",
    "circuit.ccx(qreg_q[0], qreg_q[1], qreg_q[3])\n",
    "circuit.measure(qreg_q, creg_c)\n",
    "#circuit.measure(qreg_q[0], creg_c[0])\n",
    "#circuit.measure(qreg_q[1], creg_c[1])\n",
    "#circuit.measure(qreg_q[2], creg_c[2])\n",
    "#circuit.measure(qreg_q[3], creg_c[3])\n",
    "circuit.draw(output='mpl')\n"
   ]
  },
  {
   "cell_type": "code",
   "execution_count": null,
   "metadata": {},
   "outputs": [],
   "source": [
    "from qiskit import QuantumRegister, ClassicalRegister, QuantumCircuit\n",
    "\n",
    "def half_adder(n):\n",
    "  qr = QuantumRegister(n)\n",
    "  circuit = QuantumCircuit(qr)\n",
    "  circuit.cx(qr[0], qr[2])\n",
    "  circuit.cx(qr[1], qr[2])\n",
    "  circuit.ccx(qr[0], qr[1], qr[3])\n",
    "  circuit.name = 'half_adder'\n",
    "  return circuit"
   ]
  },
  {
   "cell_type": "code",
   "execution_count": null,
   "metadata": {},
   "outputs": [],
   "source": [
    "from qiskit import QuantumRegister, ClassicalRegister, QuantumCircuit\n",
    "\n",
    "def half_adder(n):\n",
    "  qr = QuantumRegister(n)\n",
    "  circuit = QuantumCircuit(qr)\n",
    "  circuit.cx(qr[0], qr[2])\n",
    "  circuit.cx(qr[1], qr[2])\n",
    "  circuit.ccx(qr[0], qr[1], qr[3])\n",
    "  circuit.name = 'half_adder'\n",
    "  return circuit\n",
    "\n",
    "qreg_q = QuantumRegister(4, 'q')\n",
    "creg_c = ClassicalRegister(4, 'c')\n",
    "circuit = QuantumCircuit(qreg_q, creg_c)\n",
    "\n",
    "circuit.x([qreg_q[0],qreg_q[1]])\n",
    "circuit.barrier()\n",
    "c_ha = half_adder(4)\n",
    "circuit.append(c_ha,[0,1,2,3])\n",
    "circuit.measure(qreg_q, creg_c)\n",
    "\n",
    "circuit.draw(output='mpl')"
   ]
  },
  {
   "cell_type": "code",
   "execution_count": null,
   "metadata": {},
   "outputs": [],
   "source": [
    "qreg_q = QuantumRegister(4, 'q')\n",
    "creg_c = ClassicalRegister(4, 'c')\n",
    "circuit = QuantumCircuit(qreg_q, creg_c)\n",
    "\n",
    "circuit.x(qreg_q[0:2]) #circuit.x([qreg_q[0],qreg_q[1]])\n",
    "circuit.barrier()\n",
    "circuit.append(half_adder(4),[0,1,2,3])\n",
    "circuit.measure(qreg_q, creg_c)\n",
    "\n",
    "circuit.draw(output='mpl')"
   ]
  },
  {
   "cell_type": "code",
   "execution_count": null,
   "metadata": {},
   "outputs": [],
   "source": [
    "qreg_q = QuantumRegister(4, 'q')\n",
    "creg_c = ClassicalRegister(4, 'c')\n",
    "circuit = QuantumCircuit(qreg_q, creg_c)\n",
    "\n",
    "circuit.x(qreg_q[0:2]) #circuit.x([qreg_q[0],qreg_q[1]])\n",
    "circuit.barrier()\n",
    "circuit.compose(half_adder(4),range(4), inplace=True)\n",
    "circuit.measure(qreg_q, creg_c)\n",
    "\n",
    "circuit.draw(output='mpl')"
   ]
  },
  {
   "cell_type": "code",
   "execution_count": null,
   "metadata": {},
   "outputs": [],
   "source": [
    "qreg_q = QuantumRegister(8, 'q')\n",
    "#creg_c = ClassicalRegister(4, 'c')\n",
    "circuit = QuantumCircuit(qreg_q)\n",
    "\n",
    "circuit.x([qreg_q[2],qreg_q[3]])\n",
    "circuit.barrier()\n",
    "circuit.compose(half_adder(4),qreg_q[2:4]+qreg_q[5:6]+qreg_q[7:8], inplace=True)\n",
    "\n",
    "circuit.measure_all()\n",
    "circuit.draw(output='mpl')"
   ]
  },
  {
   "cell_type": "code",
   "execution_count": null,
   "metadata": {},
   "outputs": [],
   "source": [
    "qreg_q = QuantumRegister(8, 'q')\n",
    "creg_c = ClassicalRegister(4, 'c')\n",
    "circuit = QuantumCircuit(qreg_q, creg_c)\n",
    "\n",
    "circuit.x([qreg_q[2],qreg_q[3]])\n",
    "circuit.barrier()\n",
    "circuit.compose(half_adder(4),[2,3,5,7], inplace=True)\n",
    "circuit.measure([2,3,5,7],[0,1,2,3])\n",
    "circuit.draw(output='mpl')"
   ]
  },
  {
   "cell_type": "code",
   "execution_count": null,
   "metadata": {},
   "outputs": [],
   "source": [
    "qreg_q = QuantumRegister(8, 'q')\n",
    "creg_c = ClassicalRegister(4, 'c')\n",
    "circuit = QuantumCircuit(qreg_q, creg_c)\n",
    "\n",
    "circuit.x([qreg_q[2],qreg_q[3]])\n",
    "circuit.barrier()\n",
    "c_ha = half_adder(4)\n",
    "circuit.compose(c_ha,range(2,6), inplace=True)\n",
    "circuit.barrier()\n",
    "circuit.compose(c_ha.inverse(),range(2,6), inplace=True)\n",
    "circuit.barrier()\n",
    "circuit.measure(range(2,6),creg_c)\n",
    "circuit.draw(output='mpl')"
   ]
  },
  {
   "cell_type": "code",
   "execution_count": null,
   "metadata": {},
   "outputs": [],
   "source": [
    "def mcx_test(controls, targets):\n",
    "  qc = QuantumCircuit(controls, targets)\n",
    "  qc.cx(controls[0], targets[0], ctrl_state='0')\n",
    "  qc.ccx(controls[0], controls[1], targets[1], ctrl_state='01')\n",
    "  qc.mcx([controls[0], controls[1], controls[2], controls[3]], targets[2])\n",
    "  qc.mcx(controls[0:4], targets[3], ctrl_state='0001')\n",
    "  qc.name = 'mcx_test'\n",
    "  return qc\n",
    "\n",
    "qreg_c = QuantumRegister(4, 'controls')\n",
    "qreg_t = QuantumRegister(4, 'targets')\n",
    "qreg_etc = QuantumRegister(2, 'etc')\n",
    "creg = ClassicalRegister(4, 'measure')\n",
    "circuit = QuantumCircuit(qreg_etc, qreg_c, qreg_t, creg)\n",
    "\n",
    "circuit.compose(mcx_test(qreg_c,qreg_t),qreg_c[0:4]+qreg_t[:4], inplace=True)\n",
    "circuit.barrier()\n",
    "circuit.compose(mcx_test(qreg_c,qreg_t).inverse(), range(2,10), inplace=True)\n",
    "circuit.measure(qreg_t, range(3,-1,-1)) # [3,2,1,0]\n",
    "circuit.draw(output='mpl')"
   ]
  }
 ],
 "metadata": {
  "colab": {
   "authorship_tag": "ABX9TyMlsTavzv6vWSYEKFRT6fcd",
   "provenance": []
  },
  "kernelspec": {
   "display_name": ".venv",
   "language": "python",
   "name": "python3"
  },
  "language_info": {
   "codemirror_mode": {
    "name": "ipython",
    "version": 3
   },
   "file_extension": ".py",
   "mimetype": "text/x-python",
   "name": "python",
   "nbconvert_exporter": "python",
   "pygments_lexer": "ipython3",
   "version": "3.10.4"
  }
 },
 "nbformat": 4,
 "nbformat_minor": 0
}
