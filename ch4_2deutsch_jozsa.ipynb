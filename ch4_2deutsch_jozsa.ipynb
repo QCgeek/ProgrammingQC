{
 "cells": [
  {
   "cell_type": "code",
   "execution_count": null,
   "id": "wbGWRWWpYgEr",
   "metadata": {
    "colab": {
     "base_uri": "https://localhost:8080/"
    },
    "id": "wbGWRWWpYgEr",
    "outputId": "0520127f-d20d-4ec9-f701-dd950e3441a3"
   },
   "outputs": [],
   "source": [
    "!pip install qiskit qiskit-ibm-runtime pylatexenc qiskit_aer"
   ]
  },
  {
   "cell_type": "code",
   "execution_count": null,
   "id": "c61570b8",
   "metadata": {},
   "outputs": [],
   "source": [
    "import qiskit\n",
    "import numpy as np\n",
    "qiskit.version.get_version_info()"
   ]
  },
  {
   "cell_type": "code",
   "execution_count": null,
   "id": "WRjcWSKUh4QB",
   "metadata": {
    "colab": {
     "base_uri": "https://localhost:8080/",
     "height": 320
    },
    "id": "WRjcWSKUh4QB",
    "outputId": "1d0de099-ae07-4450-db4f-b8efdafab84a"
   },
   "outputs": [],
   "source": [
    "from qiskit import QuantumCircuit, QuantumRegister\n",
    "import numpy as np\n",
    "# f(x) = 0 혹은 f(x) = 1 인 상수 함수의 도이치-조사 오라클 회로를 구현하는 함수\n",
    "def dj_oracle_const(n):\n",
    "    qy = QuantumRegister(1, 'y')\n",
    "    qx = QuantumRegister(n, 'x')\n",
    "    qc = QuantumCircuit(qy, qx) # qc 라는 이름의 n+1큐비트 양자 회로 객체를 생성\n",
    "\n",
    "    np.random.seed()\n",
    "    x = np.random.randint(2)\n",
    "    if x == 1 :                 # if x==1 f(x)=1, if x==0 f(x)=0\n",
    "      qc.x(0)\n",
    "    qc.name = 'DJ-const'\n",
    "    return qc              # qc 객체를 반환\n",
    "\n",
    "circuit = dj_oracle_const(3) # 함수를 호출하여 회로를 표현하는 객체를 생성\n",
    "circuit.draw(output='mpl') # circuit 회로를 matplot library 형식의 그림 화일로 출력"
   ]
  },
  {
   "cell_type": "code",
   "execution_count": null,
   "id": "jWJALwLIjGg9",
   "metadata": {
    "colab": {
     "base_uri": "https://localhost:8080/",
     "height": 338
    },
    "id": "jWJALwLIjGg9",
    "outputId": "29382693-e5f0-4a82-fc25-dbbd36f8f423"
   },
   "outputs": [],
   "source": [
    "from qiskit import QuantumCircuit, QuantumRegister, ClassicalRegister\n",
    "import numpy as np\n",
    "# 균형 함수의 도이치-조사 오라클 회로를 구현하는 함수\n",
    "def dj_oracle_balanced(n):\n",
    "    qy = QuantumRegister(1, 'y')\n",
    "    qx = QuantumRegister(n, 'x')\n",
    "    qc = QuantumCircuit(qy, qx) # qc 라는 이름의 n+1큐비트 양자 회로 객체를 생성\n",
    "    qc.x(qy)                # qy 에 X gate -> qy 상태가 |1> 이 됨\n",
    "    qc.h(qy)                # qy 에 H gate -> qy 상태가 |-> 이 됨\n",
    "\n",
    "    np.random.seed()\n",
    "    s = np.random.randint(2,size=n) # using a random n-bit binary list s\n",
    "    s[n-1] = 1                      # make sure s is not all 0's\n",
    "    print(s)\n",
    "    for i in range(n) :\n",
    "      if s[i] == 1 :\n",
    "        qc.cx(qx[i],qy)         # 제어 큐비트 qx[i], 타겟 큐비트 qy 인 CX(CNOT) gate\n",
    "\n",
    "    qc.name = 'DJ-balanced'\n",
    "    return qc               # qc 객체를 반환\n",
    "\n",
    "circuit = dj_oracle_balanced(3) # 함수를 호출하여 회로를 표현하는 객체를 생성\n",
    "circuit.draw(output='mpl') # circuit 회로를 matplot library 형식의 그림 화일로 출력"
   ]
  },
  {
   "cell_type": "code",
   "execution_count": null,
   "id": "006d5cc2",
   "metadata": {},
   "outputs": [],
   "source": [
    "from qiskit import QuantumCircuit, QuantumRegister, ClassicalRegister\n",
    "import numpy as np\n",
    "# 임의의 n-qubit 도이치-조사 오라클 회로를 구현하는 함수\n",
    "def dj_oracle(n):\n",
    "    qy = QuantumRegister(1, 'y')\n",
    "    qx = QuantumRegister(n, 'x')\n",
    "    qc = QuantumCircuit(qy, qx) # qc 라는 이름의 n+1큐비트 양자 회로 객체를 생성\n",
    "    np.random.seed()\n",
    "    condition = np.random.choice(['constant','balanced'])\n",
    "    print(condition)\n",
    "\n",
    "    if condition == 'constant' :  # construct a random constant f(x)\n",
    "      x = np.random.randint(2)\n",
    "      print(x)\n",
    "      if x == 1 :                 # if x==1 f(x)=1, if x==0 f(x)=0\n",
    "        qc.x(qy)\n",
    "    else :                        # construct a random balanced f(x)\n",
    "      k = np.random.randint(1,n+1)   # make sure s is not all 0's\n",
    "      a = np.random.permutation(n)\n",
    "      a = a[:k]                    # a = k개의 n 보다 작은 정수들의 집합\n",
    "      print(a)\n",
    "      for x in a :\n",
    "        qc.cx(qx[x],qy)         # 제어 큐비트 qx[x], 타겟 큐비트 qy 인 CX(CNOT) gate\n",
    "\n",
    "    qc.name = 'DJ-Oracle'\n",
    "    return qc              # qc 객체를 반환\n",
    "\n",
    "circuit = dj_oracle(3) # 함수를 호출하여 회로를 표현하는 객체를 생성\n",
    "circuit.draw(output='mpl')"
   ]
  },
  {
   "cell_type": "code",
   "execution_count": null,
   "id": "d9aaa6b3-51ae-4373-bde8-95bb57f38635",
   "metadata": {
    "colab": {
     "base_uri": "https://localhost:8080/",
     "height": 420
    },
    "id": "d9aaa6b3-51ae-4373-bde8-95bb57f38635",
    "outputId": "1ce94d74-00f6-47a2-d423-06f0c0f1c8e0"
   },
   "outputs": [],
   "source": [
    "from qiskit import QuantumCircuit, QuantumRegister, ClassicalRegister\n",
    "# 도이치-조사 오라클 함수를 호출하여 도이치-조사 회로를 circuit 이라는 이름의 객체로 구현\n",
    "n = 3\n",
    "qx = QuantumRegister(n,'x')  # n 큐비트의 양자 레지스터 객체를 qx 라는 이름으로 생성, 회로에는 'x'로 표시\n",
    "qy = QuantumRegister(1,'y')  # 1 큐비트의 양자 레지스터 객체를 qy 라는 이름으로 생성, 회로에는 'y'로 표시\n",
    "c = ClassicalRegister(n,'c') # n 비트의 고전 레지스터 객체를 c 라는 이름으로 생성, 회로에는 'c'로 표시\n",
    "circuit = QuantumCircuit(qy, qx, c) # qy,qx,c 를 가지는 양자 회로를 circuit 이라는 이름의 객체로 생성\n",
    "circuit.x(qy)                # qy 큐비트에 X gate -> qy 큐비트 상태가 |1> 이 됨\n",
    "circuit.h(qy)                # qy 큐비트에 H gate -> qy 큐비트 상태가 |-> 이 됨\n",
    "circuit.h(qx)                # qx 의 모든 큐비트에 H gate 적용\n",
    "circuit.barrier()\n",
    "# dj_oracle_circuit() 을 호출하여 오라클 회로를 circuit 에 추가\n",
    "circuit.compose(dj_oracle(n), range(n+1), inplace=True)\n",
    "circuit.barrier()\n",
    "circuit.h(qx)              # qx 의 모든 큐비트에 H gate 적용\n",
    "circuit.measure(qx,c)      # qx 레지스터의 모든 큐비트들을 측정하여 c 레지스터로 읽는 회로를 구현\n",
    "circuit.draw(output='mpl') # circuit 회로를 matplot library 형식의 그림 화일로 출력"
   ]
  },
  {
   "cell_type": "code",
   "execution_count": null,
   "id": "TFz1zlhQVctW",
   "metadata": {
    "colab": {
     "base_uri": "https://localhost:8080/"
    },
    "id": "TFz1zlhQVctW",
    "outputId": "e264fc49-7cf2-4242-a96e-244743f67864"
   },
   "outputs": [],
   "source": [
    "# AerSimulator 를 이용하여 circuit 회로를 측정한 결과를 출력\n",
    "from qiskit.transpiler.preset_passmanagers import generate_preset_pass_manager\n",
    "from qiskit_ibm_runtime import SamplerV2 as Sampler\n",
    "from qiskit_aer import AerSimulator\n",
    "\n",
    "aer_sim = AerSimulator()\n",
    "pm = generate_preset_pass_manager(backend=aer_sim, optimization_level=1)\n",
    "\n",
    "isa_circuit = pm.run(circuit)\n",
    "sampler = Sampler(mode=aer_sim)\n",
    "job = sampler.run([isa_circuit], shots=1)\n",
    "result = job.result()\n",
    "count = result[0].data.c.get_counts()\n",
    "print (count)"
   ]
  },
  {
   "cell_type": "code",
   "execution_count": null,
   "id": "Rdsb5vVjwczA",
   "metadata": {
    "colab": {
     "base_uri": "https://localhost:8080/"
    },
    "id": "Rdsb5vVjwczA",
    "outputId": "ef9bfa76-fb71-4f62-f975-ed45bc28fac0"
   },
   "outputs": [],
   "source": [
    "n_zeros = n*'0'\n",
    "\n",
    "if (n_zeros in count) :\n",
    "  answer = 'constant'\n",
    "else :\n",
    "  answer = 'balanced'\n",
    "print(f'f(x) is a {answer} function.')\n"
   ]
  }
 ],
 "metadata": {
  "colab": {
   "provenance": []
  },
  "kernelspec": {
   "display_name": ".venv",
   "language": "python",
   "name": "python3"
  },
  "language_info": {
   "codemirror_mode": {
    "name": "ipython",
    "version": 3
   },
   "file_extension": ".py",
   "mimetype": "text/x-python",
   "name": "python",
   "nbconvert_exporter": "python",
   "pygments_lexer": "ipython3",
   "version": "3.10.4"
  }
 },
 "nbformat": 4,
 "nbformat_minor": 5
}
