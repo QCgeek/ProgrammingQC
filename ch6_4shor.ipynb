{
 "cells": [
  {
   "cell_type": "code",
   "execution_count": null,
   "id": "PF3uTLhqxyEc",
   "metadata": {
    "colab": {
     "base_uri": "https://localhost:8080/"
    },
    "executionInfo": {
     "elapsed": 15882,
     "status": "ok",
     "timestamp": 1727772202484,
     "user": {
      "displayName": "Eun-Jin Im",
      "userId": "12874128355928418134"
     },
     "user_tz": -540
    },
    "id": "PF3uTLhqxyEc",
    "outputId": "8890dd5a-d46d-44af-f2f5-3f068d267745"
   },
   "outputs": [],
   "source": [
    "!pip install qiskit qiskit-ibm-runtime pylatexenc qiskit_aer"
   ]
  },
  {
   "cell_type": "code",
   "execution_count": null,
   "id": "af8c299d",
   "metadata": {},
   "outputs": [],
   "source": [
    "import qiskit\n",
    "qiskit.version.get_version_info()"
   ]
  },
  {
   "cell_type": "code",
   "execution_count": null,
   "id": "bf6c8b1f-c1e0-46d5-bc17-8541b4121610",
   "metadata": {
    "executionInfo": {
     "elapsed": 828,
     "status": "ok",
     "timestamp": 1727772264367,
     "user": {
      "displayName": "Eun-Jin Im",
      "userId": "12874128355928418134"
     },
     "user_tz": -540
    },
    "id": "bf6c8b1f-c1e0-46d5-bc17-8541b4121610",
    "tags": []
   },
   "outputs": [],
   "source": [
    "from qiskit import QuantumCircuit, ClassicalRegister, QuantumRegister, transpile\n",
    "from qiskit.visualization import plot_histogram, array_to_latex\n",
    "from qiskit.circuit.library import QFT,PhaseEstimation\n",
    "\n",
    "import numpy as np\n",
    "from numpy.random import randint\n",
    "from math import gcd,lcm\n",
    "import matplotlib.pyplot as plt"
   ]
  },
  {
   "cell_type": "code",
   "execution_count": null,
   "id": "95f7f974",
   "metadata": {},
   "outputs": [],
   "source": [
    "N = 15\n",
    "a = 7\n",
    "\n",
    "xvals = range(N)\n",
    "yvals = [1]\n",
    "y = 1\n",
    "for x in range(1,N):\n",
    "    y = np.mod(a*y, N)\n",
    "    yvals += [y] \n",
    "\n",
    "fig, ax = plt.subplots()\n",
    "ax.plot(xvals, yvals, linewidth=1, linestyle='solid', marker='o')\n",
    "ax.set(xlabel='$x$', ylabel=f'${a}^x$ mod ${N}$')\n",
    "\n",
    "try: \n",
    "    r = yvals[1:].index(1) + 1\n",
    "    plt.annotate('', xy=(0,1), xytext=(r,1),\n",
    "                 arrowprops=dict(arrowstyle='<->'))\n",
    "    plt.annotate(f'$r={r}$', xy=(r/3,1.5))\n",
    "except ValueError:\n",
    "    print(f'An order not found, {a} may be larger than {N} or {a} and {N} has a common factor {gcd(a,N)}.')"
   ]
  },
  {
   "cell_type": "code",
   "execution_count": null,
   "id": "70187c4c",
   "metadata": {},
   "outputs": [],
   "source": [
    "import matplotlib.pyplot as plt\n",
    "\n",
    "fig = plt.figure(figsize=(15,1), dpi=100)\n",
    "ax = fig.add_subplot(111)\n",
    "plt.subplots_adjust()\n",
    "ax.spines[\"top\"].set_color(\"None\")\n",
    "ax.spines[\"right\"].set_color(\"None\")\n",
    "#ax.spines[\"bottom\"].set_color(\"None\")\n",
    "ax.spines[\"left\"].set_color(\"None\")\n",
    "ax.set_yticks([],labels=\"\")\n",
    "N = 7\n",
    "x = {0.0:'0', 1.0:'1'}\n",
    "for denom in range(N,-1,-1):\n",
    "    for num in range(1,denom):\n",
    "        x[float(num)/denom] = f'{num}/{denom}'\n",
    "x_sorted = sorted(x.items(), key=lambda x:x[0])\n",
    "x_ticks = [x[0] for x in x_sorted]\n",
    "x_labels = [x[1] for x in x_sorted]\n",
    "print(x_ticks)\n",
    "ax.set_xticks(x_ticks,labels=x_labels)\n",
    "print(x_sorted)\n",
    "mark = float(108)/128\n",
    "ax.annotate(\"108/128\",(mark,0),(mark-0.025,0.7), arrowprops={\"arrowstyle\":\"->\", \"color\":\"0.0\"})\n",
    "\n",
    "plt.show()\n"
   ]
  },
  {
   "cell_type": "code",
   "execution_count": null,
   "id": "af23bdf6",
   "metadata": {},
   "outputs": [],
   "source": [
    "from fractions import Fraction\n",
    "# 분모가 7 이하인 유리수 중에서 108/128 과 가장 가까운 유리수의 분자와 분모를 찾는다.\n",
    "f = Fraction(108/128).limit_denominator(7)\n",
    "r = f.denominator\n",
    "s = f.numerator\n",
    "print(f\"estimated phase = {s}/{r}\")"
   ]
  },
  {
   "cell_type": "code",
   "execution_count": null,
   "id": "tanNhg1VG-O2",
   "metadata": {
    "colab": {
     "base_uri": "https://localhost:8080/"
    },
    "executionInfo": {
     "elapsed": 357,
     "status": "ok",
     "timestamp": 1727772568674,
     "user": {
      "displayName": "Eun-Jin Im",
      "userId": "12874128355928418134"
     },
     "user_tz": -540
    },
    "id": "tanNhg1VG-O2",
    "outputId": "161b73ea-b288-4d14-aa4c-8e93776cb501"
   },
   "outputs": [],
   "source": [
    "import numpy as np\n",
    "from numpy.random import randint\n",
    "from math import gcd,lcm\n",
    "# factoring N=21\n",
    "N = 21  # number to be factored\n",
    "n =  5   # number of qubits representing N\n",
    "t =  2*n + 1 # number of evaluation qubits\n",
    "a =  randint(2,N)\n",
    "g = gcd(a,N)\n",
    "print(f\"a = {a}, gcd({a},{N}) = {g}\") # if g != 1, g is a factor of N"
   ]
  },
  {
   "cell_type": "code",
   "execution_count": null,
   "id": "WHTwxKUPycYD",
   "metadata": {
    "colab": {
     "base_uri": "https://localhost:8080/",
     "height": 1000
    },
    "executionInfo": {
     "elapsed": 1783051,
     "status": "ok",
     "timestamp": 1727774363744,
     "user": {
      "displayName": "Eun-Jin Im",
      "userId": "12874128355928418134"
     },
     "user_tz": -540
    },
    "id": "WHTwxKUPycYD",
    "outputId": "155059c6-7def-4928-f1bd-c49a44ea2dac"
   },
   "outputs": [],
   "source": [
    "# generate U matrix of (a*i) mod N\n",
    "two_power_n = 1 << n # 2^n\n",
    "U = np.eye(two_power_n) # Identity matrix\n",
    "for j in range(N):\n",
    "    U[j][j] = 0\n",
    "    U[(a*j)%N][j] = 1\n",
    "# U 행렬을 구현하는 양자 회로 qcU 를 생성\n",
    "qcU = QuantumCircuit(n)\n",
    "qcU.unitary(U, range(n))\n"
   ]
  },
  {
   "cell_type": "code",
   "execution_count": null,
   "id": "a7bb960c",
   "metadata": {},
   "outputs": [],
   "source": [
    "\n",
    "from qiskit.visualization import array_to_latex\n",
    "array_to_latex(U, prefix=\"U = \", max_size=32)"
   ]
  },
  {
   "cell_type": "code",
   "execution_count": null,
   "id": "00775706",
   "metadata": {},
   "outputs": [],
   "source": [
    "# phase estimation using QPE\n",
    "from qiskit.circuit.library import PhaseEstimation\n",
    "\n",
    "# generate a order-finding circuit\n",
    "qx = QuantumRegister(t,'x')\n",
    "qy = QuantumRegister(n,'y')\n",
    "c = ClassicalRegister(t,'c')\n",
    "qc_of = QuantumCircuit(qx, qy, c)\n",
    "qc_of.x(qy[0])                 # input state = |1>\n",
    "qc_of.append(PhaseEstimation(t,qcU),qx[:]+qy[:])\n",
    "qc_of.measure(qx,reversed(c))\n",
    "qc_of.draw(output='mpl',fold=-1)"
   ]
  },
  {
   "cell_type": "code",
   "execution_count": null,
   "id": "yn_H39uWghSq",
   "metadata": {
    "colab": {
     "base_uri": "https://localhost:8080/"
    },
    "executionInfo": {
     "elapsed": 1387140,
     "status": "ok",
     "timestamp": 1727782986748,
     "user": {
      "displayName": "Eun-Jin Im",
      "userId": "12874128355928418134"
     },
     "user_tz": -540
    },
    "id": "yn_H39uWghSq",
    "outputId": "af228beb-b755-4790-b77c-c700ee67805a"
   },
   "outputs": [],
   "source": [
    "from qiskit.transpiler.preset_passmanagers import generate_preset_pass_manager\n",
    "from qiskit_ibm_runtime import SamplerV2 as Sampler\n",
    "from qiskit_aer import AerSimulator\n",
    "aer_sim = AerSimulator()\n",
    "pm = generate_preset_pass_manager(backend=aer_sim, optimization_level=1)\n",
    "isa_circuit = pm.run(qc_of)\n",
    "sampler = Sampler(mode=aer_sim)\n",
    "job = sampler.run([isa_circuit], shots=1)\n",
    "result = job.result()\n",
    "count = result[0].data.c.get_counts()\n",
    "print(count)"
   ]
  },
  {
   "cell_type": "code",
   "execution_count": null,
   "id": "wysHWRgKjLqa",
   "metadata": {
    "colab": {
     "base_uri": "https://localhost:8080/"
    },
    "executionInfo": {
     "elapsed": 343,
     "status": "ok",
     "timestamp": 1727777323145,
     "user": {
      "displayName": "Eun-Jin Im",
      "userId": "12874128355928418134"
     },
     "user_tz": -540
    },
    "id": "wysHWRgKjLqa",
    "outputId": "526a6e13-9f3a-4035-f551-6a52892ab9a6"
   },
   "outputs": [],
   "source": [
    "phase = list(count.keys())\n",
    "print(\"measured output state = \", phase[0])"
   ]
  },
  {
   "cell_type": "code",
   "execution_count": null,
   "id": "H2xUzgzSG-O3",
   "metadata": {
    "colab": {
     "base_uri": "https://localhost:8080/"
    },
    "executionInfo": {
     "elapsed": 344,
     "status": "ok",
     "timestamp": 1727781283885,
     "user": {
      "displayName": "Eun-Jin Im",
      "userId": "12874128355928418134"
     },
     "user_tz": -540
    },
    "id": "H2xUzgzSG-O3",
    "outputId": "745db9f1-0272-4da6-e6ec-2022b4227357"
   },
   "outputs": [],
   "source": [
    "from fractions import Fraction\n",
    "s_pre = int(phase[0],2) # convert a binary string to an integer\n",
    "r_pre = 1<<t  # r_pre == 2^t\n",
    "print(f\"measured phase = {s_pre}/{r_pre}\")\n",
    "f = Fraction(s_pre/r_pre).limit_denominator(N)\n",
    "r = f.denominator\n",
    "s = f.numerator\n",
    "print(f\"estimated phase = {s}/{r}\")\n",
    "print(f\"estimated order r = {r}\")"
   ]
  },
  {
   "cell_type": "code",
   "execution_count": null,
   "id": "10aba3bf",
   "metadata": {},
   "outputs": [],
   "source": [
    "def estimate_order(sampler, isa_circuit, t):\n",
    "    job = sampler.run([isa_circuit], shots=1)\n",
    "    result = job.result()\n",
    "    count = result[0].data.c.get_counts()\n",
    "    phase = list(count.keys())\n",
    "    s_pre = int(phase[0],2) # convert a binary string to an integer\n",
    "    r_pre = 1<<t  # r_pre == 2^t\n",
    "    f = Fraction(s_pre/r_pre).limit_denominator(N)\n",
    "    return  f.denominator\n",
    "\n",
    "def confirm_order(a, r, N):\n",
    "    return (a**r % N == 1)\n",
    "\n",
    "if confirm_order(a, r, N):\n",
    "    found = True\n",
    "else : \n",
    "    r1 = r\n",
    "    r2 = estimate_order(sampler, isa_circuit, t)\n",
    "    if confirm_order(a, r2, N):\n",
    "        r = r2\n",
    "        found = True\n",
    "    else :\n",
    "        r = lcm(r1, r2)\n",
    "        if r >= N :\n",
    "            found = False\n",
    "        elif confirm_order(a, r, N):\n",
    "            found = True\n",
    "        else :\n",
    "            found = False\n",
    "    print(f\"r1={r1} r2={r2} estimated r={r}\")\n",
    "\n",
    "if (found) :\n",
    "    print(f\"estimated value {r} is an order of {a} for {N}\")\n",
    "else :\n",
    "    print(f\"{r} is NOT an order of {a} for {N} because {a}^{r} % {N} = {a**r%N}\")"
   ]
  },
  {
   "cell_type": "code",
   "execution_count": null,
   "id": "rGYqLVobG-O4",
   "metadata": {
    "colab": {
     "base_uri": "https://localhost:8080/"
    },
    "executionInfo": {
     "elapsed": 338,
     "status": "ok",
     "timestamp": 1727785167425,
     "user": {
      "displayName": "Eun-Jin Im",
      "userId": "12874128355928418134"
     },
     "user_tz": -540
    },
    "id": "rGYqLVobG-O4",
    "outputId": "d418c6ec-033e-458d-ea8b-05f1afd5e1ed"
   },
   "outputs": [],
   "source": [
    "if r % 2 == 0 : # r is even\n",
    "    a_power_r_over2 = a**int(r/2)\n",
    "    p = gcd(a_power_r_over2+1,N)\n",
    "    print (f\"p = gcd( {a}^({r}/2) + 1 (= {a_power_r_over2+1}), {N} ) = {p}\")\n",
    "    if (p == N)  :\n",
    "        print (f\"{a}^({r}/2) + 1 (= {a_power_r_over2+1}) is a multiple of {N}.\")\n",
    "        print (f\" a = {a} is not lucky. try again.\")\n",
    "    elif (p == 1) :\n",
    "        print (f\" r = {r} is not an order of {a}. try again.\")\n",
    "    else :\n",
    "        q = gcd(a_power_r_over2-1,N)\n",
    "        print (f\"q = gcd( {a}^({r}/2) - 1 (= {a_power_r_over2-1}), {N} ) = {q}\")\n",
    "        print (f\"{p} and {q} are factors of {N}\")\n",
    "else :\n",
    "    print (f\"r = {r} is an odd number. a = {a} is not lucky. try again.\")"
   ]
  }
 ],
 "metadata": {
  "colab": {
   "provenance": []
  },
  "kernelspec": {
   "display_name": ".venv",
   "language": "python",
   "name": "python3"
  },
  "language_info": {
   "codemirror_mode": {
    "name": "ipython",
    "version": 3
   },
   "file_extension": ".py",
   "mimetype": "text/x-python",
   "name": "python",
   "nbconvert_exporter": "python",
   "pygments_lexer": "ipython3",
   "version": "3.10.4"
  }
 },
 "nbformat": 4,
 "nbformat_minor": 5
}
